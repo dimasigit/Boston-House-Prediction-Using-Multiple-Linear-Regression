{
 "cells": [
  {
   "cell_type": "code",
   "execution_count": 116,
   "id": "2bbd7084",
   "metadata": {},
   "outputs": [],
   "source": [
    "import numpy as np\n",
    "import pandas as pd\n",
    "import seaborn as sns\n",
    "import matplotlib.pyplot as plt\n",
    "import sklearn\n",
    "import statsmodels\n",
    "import warnings\n",
    "warnings.filterwarnings('ignore')"
   ]
  },
  {
   "cell_type": "markdown",
   "id": "47e6ba05",
   "metadata": {},
   "source": [
    "### Multiple Linear Regression\n",
    "Regresi dg lebih dari 1 variabel Independent"
   ]
  },
  {
   "cell_type": "code",
   "execution_count": 117,
   "id": "8fea84bc",
   "metadata": {},
   "outputs": [],
   "source": [
    "from sklearn.datasets import load_boston"
   ]
  },
  {
   "cell_type": "code",
   "execution_count": 118,
   "id": "375f86e4",
   "metadata": {},
   "outputs": [],
   "source": [
    "boston=load_boston()\n",
    "# bentukya dictionery"
   ]
  },
  {
   "cell_type": "code",
   "execution_count": 119,
   "id": "2d1fdf7f",
   "metadata": {},
   "outputs": [
    {
     "data": {
      "text/plain": [
       "dict_keys(['data', 'target', 'feature_names', 'DESCR', 'filename'])"
      ]
     },
     "execution_count": 119,
     "metadata": {},
     "output_type": "execute_result"
    }
   ],
   "source": [
    "boston.keys()"
   ]
  },
  {
   "cell_type": "code",
   "execution_count": 120,
   "id": "114e63c8",
   "metadata": {},
   "outputs": [
    {
     "name": "stdout",
     "output_type": "stream",
     "text": [
      ".. _boston_dataset:\n",
      "\n",
      "Boston house prices dataset\n",
      "---------------------------\n",
      "\n",
      "**Data Set Characteristics:**  \n",
      "\n",
      "    :Number of Instances: 506 \n",
      "\n",
      "    :Number of Attributes: 13 numeric/categorical predictive. Median Value (attribute 14) is usually the target.\n",
      "\n",
      "    :Attribute Information (in order):\n",
      "        - CRIM     per capita crime rate by town\n",
      "        - ZN       proportion of residential land zoned for lots over 25,000 sq.ft.\n",
      "        - INDUS    proportion of non-retail business acres per town\n",
      "        - CHAS     Charles River dummy variable (= 1 if tract bounds river; 0 otherwise)\n",
      "        - NOX      nitric oxides concentration (parts per 10 million)\n",
      "        - RM       average number of rooms per dwelling\n",
      "        - AGE      proportion of owner-occupied units built prior to 1940\n",
      "        - DIS      weighted distances to five Boston employment centres\n",
      "        - RAD      index of accessibility to radial highways\n",
      "        - TAX      full-value property-tax rate per $10,000\n",
      "        - PTRATIO  pupil-teacher ratio by town\n",
      "        - B        1000(Bk - 0.63)^2 where Bk is the proportion of black people by town\n",
      "        - LSTAT    % lower status of the population\n",
      "        - MEDV     Median value of owner-occupied homes in $1000's\n",
      "\n",
      "    :Missing Attribute Values: None\n",
      "\n",
      "    :Creator: Harrison, D. and Rubinfeld, D.L.\n",
      "\n",
      "This is a copy of UCI ML housing dataset.\n",
      "https://archive.ics.uci.edu/ml/machine-learning-databases/housing/\n",
      "\n",
      "\n",
      "This dataset was taken from the StatLib library which is maintained at Carnegie Mellon University.\n",
      "\n",
      "The Boston house-price data of Harrison, D. and Rubinfeld, D.L. 'Hedonic\n",
      "prices and the demand for clean air', J. Environ. Economics & Management,\n",
      "vol.5, 81-102, 1978.   Used in Belsley, Kuh & Welsch, 'Regression diagnostics\n",
      "...', Wiley, 1980.   N.B. Various transformations are used in the table on\n",
      "pages 244-261 of the latter.\n",
      "\n",
      "The Boston house-price data has been used in many machine learning papers that address regression\n",
      "problems.   \n",
      "     \n",
      ".. topic:: References\n",
      "\n",
      "   - Belsley, Kuh & Welsch, 'Regression diagnostics: Identifying Influential Data and Sources of Collinearity', Wiley, 1980. 244-261.\n",
      "   - Quinlan,R. (1993). Combining Instance-Based and Model-Based Learning. In Proceedings on the Tenth International Conference of Machine Learning, 236-243, University of Massachusetts, Amherst. Morgan Kaufmann.\n",
      "\n"
     ]
    }
   ],
   "source": [
    "print(boston['DESCR'])"
   ]
  },
  {
   "cell_type": "code",
   "execution_count": 121,
   "id": "0fcaaaf2",
   "metadata": {},
   "outputs": [
    {
     "data": {
      "text/plain": [
       "(506, 13)"
      ]
     },
     "execution_count": 121,
     "metadata": {},
     "output_type": "execute_result"
    }
   ],
   "source": [
    "boston['data'].shape\n",
    "#datanya ada 506, kolomnya 13"
   ]
  },
  {
   "cell_type": "code",
   "execution_count": 122,
   "id": "7d3b0689",
   "metadata": {},
   "outputs": [
    {
     "data": {
      "text/plain": [
       "array([24. , 21.6, 34.7, 33.4, 36.2, 28.7, 22.9, 27.1, 16.5, 18.9, 15. ,\n",
       "       18.9, 21.7, 20.4, 18.2, 19.9, 23.1, 17.5, 20.2, 18.2, 13.6, 19.6,\n",
       "       15.2, 14.5, 15.6, 13.9, 16.6, 14.8, 18.4, 21. , 12.7, 14.5, 13.2,\n",
       "       13.1, 13.5, 18.9, 20. , 21. , 24.7, 30.8, 34.9, 26.6, 25.3, 24.7,\n",
       "       21.2, 19.3, 20. , 16.6, 14.4, 19.4, 19.7, 20.5, 25. , 23.4, 18.9,\n",
       "       35.4, 24.7, 31.6, 23.3, 19.6, 18.7, 16. , 22.2, 25. , 33. , 23.5,\n",
       "       19.4, 22. , 17.4, 20.9, 24.2, 21.7, 22.8, 23.4, 24.1, 21.4, 20. ,\n",
       "       20.8, 21.2, 20.3, 28. , 23.9, 24.8, 22.9, 23.9, 26.6, 22.5, 22.2,\n",
       "       23.6, 28.7, 22.6, 22. , 22.9, 25. , 20.6, 28.4, 21.4, 38.7, 43.8,\n",
       "       33.2, 27.5, 26.5, 18.6, 19.3, 20.1, 19.5, 19.5, 20.4, 19.8, 19.4,\n",
       "       21.7, 22.8, 18.8, 18.7, 18.5, 18.3, 21.2, 19.2, 20.4, 19.3, 22. ,\n",
       "       20.3, 20.5, 17.3, 18.8, 21.4, 15.7, 16.2, 18. , 14.3, 19.2, 19.6,\n",
       "       23. , 18.4, 15.6, 18.1, 17.4, 17.1, 13.3, 17.8, 14. , 14.4, 13.4,\n",
       "       15.6, 11.8, 13.8, 15.6, 14.6, 17.8, 15.4, 21.5, 19.6, 15.3, 19.4,\n",
       "       17. , 15.6, 13.1, 41.3, 24.3, 23.3, 27. , 50. , 50. , 50. , 22.7,\n",
       "       25. , 50. , 23.8, 23.8, 22.3, 17.4, 19.1, 23.1, 23.6, 22.6, 29.4,\n",
       "       23.2, 24.6, 29.9, 37.2, 39.8, 36.2, 37.9, 32.5, 26.4, 29.6, 50. ,\n",
       "       32. , 29.8, 34.9, 37. , 30.5, 36.4, 31.1, 29.1, 50. , 33.3, 30.3,\n",
       "       34.6, 34.9, 32.9, 24.1, 42.3, 48.5, 50. , 22.6, 24.4, 22.5, 24.4,\n",
       "       20. , 21.7, 19.3, 22.4, 28.1, 23.7, 25. , 23.3, 28.7, 21.5, 23. ,\n",
       "       26.7, 21.7, 27.5, 30.1, 44.8, 50. , 37.6, 31.6, 46.7, 31.5, 24.3,\n",
       "       31.7, 41.7, 48.3, 29. , 24. , 25.1, 31.5, 23.7, 23.3, 22. , 20.1,\n",
       "       22.2, 23.7, 17.6, 18.5, 24.3, 20.5, 24.5, 26.2, 24.4, 24.8, 29.6,\n",
       "       42.8, 21.9, 20.9, 44. , 50. , 36. , 30.1, 33.8, 43.1, 48.8, 31. ,\n",
       "       36.5, 22.8, 30.7, 50. , 43.5, 20.7, 21.1, 25.2, 24.4, 35.2, 32.4,\n",
       "       32. , 33.2, 33.1, 29.1, 35.1, 45.4, 35.4, 46. , 50. , 32.2, 22. ,\n",
       "       20.1, 23.2, 22.3, 24.8, 28.5, 37.3, 27.9, 23.9, 21.7, 28.6, 27.1,\n",
       "       20.3, 22.5, 29. , 24.8, 22. , 26.4, 33.1, 36.1, 28.4, 33.4, 28.2,\n",
       "       22.8, 20.3, 16.1, 22.1, 19.4, 21.6, 23.8, 16.2, 17.8, 19.8, 23.1,\n",
       "       21. , 23.8, 23.1, 20.4, 18.5, 25. , 24.6, 23. , 22.2, 19.3, 22.6,\n",
       "       19.8, 17.1, 19.4, 22.2, 20.7, 21.1, 19.5, 18.5, 20.6, 19. , 18.7,\n",
       "       32.7, 16.5, 23.9, 31.2, 17.5, 17.2, 23.1, 24.5, 26.6, 22.9, 24.1,\n",
       "       18.6, 30.1, 18.2, 20.6, 17.8, 21.7, 22.7, 22.6, 25. , 19.9, 20.8,\n",
       "       16.8, 21.9, 27.5, 21.9, 23.1, 50. , 50. , 50. , 50. , 50. , 13.8,\n",
       "       13.8, 15. , 13.9, 13.3, 13.1, 10.2, 10.4, 10.9, 11.3, 12.3,  8.8,\n",
       "        7.2, 10.5,  7.4, 10.2, 11.5, 15.1, 23.2,  9.7, 13.8, 12.7, 13.1,\n",
       "       12.5,  8.5,  5. ,  6.3,  5.6,  7.2, 12.1,  8.3,  8.5,  5. , 11.9,\n",
       "       27.9, 17.2, 27.5, 15. , 17.2, 17.9, 16.3,  7. ,  7.2,  7.5, 10.4,\n",
       "        8.8,  8.4, 16.7, 14.2, 20.8, 13.4, 11.7,  8.3, 10.2, 10.9, 11. ,\n",
       "        9.5, 14.5, 14.1, 16.1, 14.3, 11.7, 13.4,  9.6,  8.7,  8.4, 12.8,\n",
       "       10.5, 17.1, 18.4, 15.4, 10.8, 11.8, 14.9, 12.6, 14.1, 13. , 13.4,\n",
       "       15.2, 16.1, 17.8, 14.9, 14.1, 12.7, 13.5, 14.9, 20. , 16.4, 17.7,\n",
       "       19.5, 20.2, 21.4, 19.9, 19. , 19.1, 19.1, 20.1, 19.9, 19.6, 23.2,\n",
       "       29.8, 13.8, 13.3, 16.7, 12. , 14.6, 21.4, 23. , 23.7, 25. , 21.8,\n",
       "       20.6, 21.2, 19.1, 20.6, 15.2,  7. ,  8.1, 13.6, 20.1, 21.8, 24.5,\n",
       "       23.1, 19.7, 18.3, 21.2, 17.5, 16.8, 22.4, 20.6, 23.9, 22. , 11.9])"
      ]
     },
     "execution_count": 122,
     "metadata": {},
     "output_type": "execute_result"
    }
   ],
   "source": [
    "boston['target']"
   ]
  },
  {
   "cell_type": "code",
   "execution_count": 123,
   "id": "36a7249e",
   "metadata": {},
   "outputs": [
    {
     "data": {
      "text/plain": [
       "array(['CRIM', 'ZN', 'INDUS', 'CHAS', 'NOX', 'RM', 'AGE', 'DIS', 'RAD',\n",
       "       'TAX', 'PTRATIO', 'B', 'LSTAT'], dtype='<U7')"
      ]
     },
     "execution_count": 123,
     "metadata": {},
     "output_type": "execute_result"
    }
   ],
   "source": [
    "boston['feature_names']"
   ]
  },
  {
   "cell_type": "code",
   "execution_count": 124,
   "id": "bd6f59ec",
   "metadata": {},
   "outputs": [
    {
     "data": {
      "text/html": [
       "<div>\n",
       "<style scoped>\n",
       "    .dataframe tbody tr th:only-of-type {\n",
       "        vertical-align: middle;\n",
       "    }\n",
       "\n",
       "    .dataframe tbody tr th {\n",
       "        vertical-align: top;\n",
       "    }\n",
       "\n",
       "    .dataframe thead th {\n",
       "        text-align: right;\n",
       "    }\n",
       "</style>\n",
       "<table border=\"1\" class=\"dataframe\">\n",
       "  <thead>\n",
       "    <tr style=\"text-align: right;\">\n",
       "      <th></th>\n",
       "      <th>CRIM</th>\n",
       "      <th>ZN</th>\n",
       "      <th>INDUS</th>\n",
       "      <th>CHAS</th>\n",
       "      <th>NOX</th>\n",
       "      <th>RM</th>\n",
       "      <th>AGE</th>\n",
       "      <th>DIS</th>\n",
       "      <th>RAD</th>\n",
       "      <th>TAX</th>\n",
       "      <th>PTRATIO</th>\n",
       "      <th>B</th>\n",
       "      <th>LSTAT</th>\n",
       "    </tr>\n",
       "  </thead>\n",
       "  <tbody>\n",
       "    <tr>\n",
       "      <th>0</th>\n",
       "      <td>0.00632</td>\n",
       "      <td>18.0</td>\n",
       "      <td>2.31</td>\n",
       "      <td>0.0</td>\n",
       "      <td>0.538</td>\n",
       "      <td>6.575</td>\n",
       "      <td>65.2</td>\n",
       "      <td>4.0900</td>\n",
       "      <td>1.0</td>\n",
       "      <td>296.0</td>\n",
       "      <td>15.3</td>\n",
       "      <td>396.90</td>\n",
       "      <td>4.98</td>\n",
       "    </tr>\n",
       "    <tr>\n",
       "      <th>1</th>\n",
       "      <td>0.02731</td>\n",
       "      <td>0.0</td>\n",
       "      <td>7.07</td>\n",
       "      <td>0.0</td>\n",
       "      <td>0.469</td>\n",
       "      <td>6.421</td>\n",
       "      <td>78.9</td>\n",
       "      <td>4.9671</td>\n",
       "      <td>2.0</td>\n",
       "      <td>242.0</td>\n",
       "      <td>17.8</td>\n",
       "      <td>396.90</td>\n",
       "      <td>9.14</td>\n",
       "    </tr>\n",
       "    <tr>\n",
       "      <th>2</th>\n",
       "      <td>0.02729</td>\n",
       "      <td>0.0</td>\n",
       "      <td>7.07</td>\n",
       "      <td>0.0</td>\n",
       "      <td>0.469</td>\n",
       "      <td>7.185</td>\n",
       "      <td>61.1</td>\n",
       "      <td>4.9671</td>\n",
       "      <td>2.0</td>\n",
       "      <td>242.0</td>\n",
       "      <td>17.8</td>\n",
       "      <td>392.83</td>\n",
       "      <td>4.03</td>\n",
       "    </tr>\n",
       "    <tr>\n",
       "      <th>3</th>\n",
       "      <td>0.03237</td>\n",
       "      <td>0.0</td>\n",
       "      <td>2.18</td>\n",
       "      <td>0.0</td>\n",
       "      <td>0.458</td>\n",
       "      <td>6.998</td>\n",
       "      <td>45.8</td>\n",
       "      <td>6.0622</td>\n",
       "      <td>3.0</td>\n",
       "      <td>222.0</td>\n",
       "      <td>18.7</td>\n",
       "      <td>394.63</td>\n",
       "      <td>2.94</td>\n",
       "    </tr>\n",
       "    <tr>\n",
       "      <th>4</th>\n",
       "      <td>0.06905</td>\n",
       "      <td>0.0</td>\n",
       "      <td>2.18</td>\n",
       "      <td>0.0</td>\n",
       "      <td>0.458</td>\n",
       "      <td>7.147</td>\n",
       "      <td>54.2</td>\n",
       "      <td>6.0622</td>\n",
       "      <td>3.0</td>\n",
       "      <td>222.0</td>\n",
       "      <td>18.7</td>\n",
       "      <td>396.90</td>\n",
       "      <td>5.33</td>\n",
       "    </tr>\n",
       "  </tbody>\n",
       "</table>\n",
       "</div>"
      ],
      "text/plain": [
       "      CRIM    ZN  INDUS  CHAS    NOX     RM   AGE     DIS  RAD    TAX  \\\n",
       "0  0.00632  18.0   2.31   0.0  0.538  6.575  65.2  4.0900  1.0  296.0   \n",
       "1  0.02731   0.0   7.07   0.0  0.469  6.421  78.9  4.9671  2.0  242.0   \n",
       "2  0.02729   0.0   7.07   0.0  0.469  7.185  61.1  4.9671  2.0  242.0   \n",
       "3  0.03237   0.0   2.18   0.0  0.458  6.998  45.8  6.0622  3.0  222.0   \n",
       "4  0.06905   0.0   2.18   0.0  0.458  7.147  54.2  6.0622  3.0  222.0   \n",
       "\n",
       "   PTRATIO       B  LSTAT  \n",
       "0     15.3  396.90   4.98  \n",
       "1     17.8  396.90   9.14  \n",
       "2     17.8  392.83   4.03  \n",
       "3     18.7  394.63   2.94  \n",
       "4     18.7  396.90   5.33  "
      ]
     },
     "execution_count": 124,
     "metadata": {},
     "output_type": "execute_result"
    }
   ],
   "source": [
    "df=pd.DataFrame(data=boston['data'], columns=boston['feature_names'])\n",
    "df.head()"
   ]
  },
  {
   "cell_type": "code",
   "execution_count": 125,
   "id": "012949fa",
   "metadata": {},
   "outputs": [
    {
     "data": {
      "text/plain": [
       "numpy.ndarray"
      ]
     },
     "execution_count": 125,
     "metadata": {},
     "output_type": "execute_result"
    }
   ],
   "source": [
    "type(boston['target'])\n",
    "#np array"
   ]
  },
  {
   "cell_type": "code",
   "execution_count": 126,
   "id": "13b20b98",
   "metadata": {},
   "outputs": [],
   "source": [
    "target=pd.Series(boston['target'])\n",
    "#dijadiin series"
   ]
  },
  {
   "cell_type": "code",
   "execution_count": 127,
   "id": "1157a855",
   "metadata": {},
   "outputs": [
    {
     "data": {
      "text/html": [
       "<div>\n",
       "<style scoped>\n",
       "    .dataframe tbody tr th:only-of-type {\n",
       "        vertical-align: middle;\n",
       "    }\n",
       "\n",
       "    .dataframe tbody tr th {\n",
       "        vertical-align: top;\n",
       "    }\n",
       "\n",
       "    .dataframe thead th {\n",
       "        text-align: right;\n",
       "    }\n",
       "</style>\n",
       "<table border=\"1\" class=\"dataframe\">\n",
       "  <thead>\n",
       "    <tr style=\"text-align: right;\">\n",
       "      <th></th>\n",
       "      <th>CRIM</th>\n",
       "      <th>ZN</th>\n",
       "      <th>INDUS</th>\n",
       "      <th>CHAS</th>\n",
       "      <th>NOX</th>\n",
       "      <th>RM</th>\n",
       "      <th>AGE</th>\n",
       "      <th>DIS</th>\n",
       "      <th>RAD</th>\n",
       "      <th>TAX</th>\n",
       "      <th>PTRATIO</th>\n",
       "      <th>B</th>\n",
       "      <th>LSTAT</th>\n",
       "      <th>Price</th>\n",
       "    </tr>\n",
       "  </thead>\n",
       "  <tbody>\n",
       "    <tr>\n",
       "      <th>0</th>\n",
       "      <td>0.00632</td>\n",
       "      <td>18.0</td>\n",
       "      <td>2.31</td>\n",
       "      <td>0.0</td>\n",
       "      <td>0.538</td>\n",
       "      <td>6.575</td>\n",
       "      <td>65.2</td>\n",
       "      <td>4.0900</td>\n",
       "      <td>1.0</td>\n",
       "      <td>296.0</td>\n",
       "      <td>15.3</td>\n",
       "      <td>396.90</td>\n",
       "      <td>4.98</td>\n",
       "      <td>24.0</td>\n",
       "    </tr>\n",
       "    <tr>\n",
       "      <th>1</th>\n",
       "      <td>0.02731</td>\n",
       "      <td>0.0</td>\n",
       "      <td>7.07</td>\n",
       "      <td>0.0</td>\n",
       "      <td>0.469</td>\n",
       "      <td>6.421</td>\n",
       "      <td>78.9</td>\n",
       "      <td>4.9671</td>\n",
       "      <td>2.0</td>\n",
       "      <td>242.0</td>\n",
       "      <td>17.8</td>\n",
       "      <td>396.90</td>\n",
       "      <td>9.14</td>\n",
       "      <td>21.6</td>\n",
       "    </tr>\n",
       "    <tr>\n",
       "      <th>2</th>\n",
       "      <td>0.02729</td>\n",
       "      <td>0.0</td>\n",
       "      <td>7.07</td>\n",
       "      <td>0.0</td>\n",
       "      <td>0.469</td>\n",
       "      <td>7.185</td>\n",
       "      <td>61.1</td>\n",
       "      <td>4.9671</td>\n",
       "      <td>2.0</td>\n",
       "      <td>242.0</td>\n",
       "      <td>17.8</td>\n",
       "      <td>392.83</td>\n",
       "      <td>4.03</td>\n",
       "      <td>34.7</td>\n",
       "    </tr>\n",
       "    <tr>\n",
       "      <th>3</th>\n",
       "      <td>0.03237</td>\n",
       "      <td>0.0</td>\n",
       "      <td>2.18</td>\n",
       "      <td>0.0</td>\n",
       "      <td>0.458</td>\n",
       "      <td>6.998</td>\n",
       "      <td>45.8</td>\n",
       "      <td>6.0622</td>\n",
       "      <td>3.0</td>\n",
       "      <td>222.0</td>\n",
       "      <td>18.7</td>\n",
       "      <td>394.63</td>\n",
       "      <td>2.94</td>\n",
       "      <td>33.4</td>\n",
       "    </tr>\n",
       "    <tr>\n",
       "      <th>4</th>\n",
       "      <td>0.06905</td>\n",
       "      <td>0.0</td>\n",
       "      <td>2.18</td>\n",
       "      <td>0.0</td>\n",
       "      <td>0.458</td>\n",
       "      <td>7.147</td>\n",
       "      <td>54.2</td>\n",
       "      <td>6.0622</td>\n",
       "      <td>3.0</td>\n",
       "      <td>222.0</td>\n",
       "      <td>18.7</td>\n",
       "      <td>396.90</td>\n",
       "      <td>5.33</td>\n",
       "      <td>36.2</td>\n",
       "    </tr>\n",
       "  </tbody>\n",
       "</table>\n",
       "</div>"
      ],
      "text/plain": [
       "      CRIM    ZN  INDUS  CHAS    NOX     RM   AGE     DIS  RAD    TAX  \\\n",
       "0  0.00632  18.0   2.31   0.0  0.538  6.575  65.2  4.0900  1.0  296.0   \n",
       "1  0.02731   0.0   7.07   0.0  0.469  6.421  78.9  4.9671  2.0  242.0   \n",
       "2  0.02729   0.0   7.07   0.0  0.469  7.185  61.1  4.9671  2.0  242.0   \n",
       "3  0.03237   0.0   2.18   0.0  0.458  6.998  45.8  6.0622  3.0  222.0   \n",
       "4  0.06905   0.0   2.18   0.0  0.458  7.147  54.2  6.0622  3.0  222.0   \n",
       "\n",
       "   PTRATIO       B  LSTAT  Price  \n",
       "0     15.3  396.90   4.98   24.0  \n",
       "1     17.8  396.90   9.14   21.6  \n",
       "2     17.8  392.83   4.03   34.7  \n",
       "3     18.7  394.63   2.94   33.4  \n",
       "4     18.7  396.90   5.33   36.2  "
      ]
     },
     "execution_count": 127,
     "metadata": {},
     "output_type": "execute_result"
    }
   ],
   "source": [
    "df['Price'] = target\n",
    "df.head()"
   ]
  },
  {
   "cell_type": "code",
   "execution_count": 128,
   "id": "5e6e92ff",
   "metadata": {},
   "outputs": [],
   "source": [
    "## Quick EDA akan dipakai untuk menyiapkan data untuk ML, feature selection atau pemilihan feature"
   ]
  },
  {
   "cell_type": "code",
   "execution_count": 129,
   "id": "e61f68aa",
   "metadata": {},
   "outputs": [
    {
     "data": {
      "text/plain": [
       "CRIM       float64\n",
       "ZN         float64\n",
       "INDUS      float64\n",
       "CHAS       float64\n",
       "NOX        float64\n",
       "RM         float64\n",
       "AGE        float64\n",
       "DIS        float64\n",
       "RAD        float64\n",
       "TAX        float64\n",
       "PTRATIO    float64\n",
       "B          float64\n",
       "LSTAT      float64\n",
       "Price      float64\n",
       "dtype: object"
      ]
     },
     "execution_count": 129,
     "metadata": {},
     "output_type": "execute_result"
    }
   ],
   "source": [
    "df.dtypes"
   ]
  },
  {
   "cell_type": "code",
   "execution_count": 130,
   "id": "4944c939",
   "metadata": {},
   "outputs": [
    {
     "name": "stdout",
     "output_type": "stream",
     "text": [
      "<class 'pandas.core.frame.DataFrame'>\n",
      "RangeIndex: 506 entries, 0 to 505\n",
      "Data columns (total 14 columns):\n",
      " #   Column   Non-Null Count  Dtype  \n",
      "---  ------   --------------  -----  \n",
      " 0   CRIM     506 non-null    float64\n",
      " 1   ZN       506 non-null    float64\n",
      " 2   INDUS    506 non-null    float64\n",
      " 3   CHAS     506 non-null    float64\n",
      " 4   NOX      506 non-null    float64\n",
      " 5   RM       506 non-null    float64\n",
      " 6   AGE      506 non-null    float64\n",
      " 7   DIS      506 non-null    float64\n",
      " 8   RAD      506 non-null    float64\n",
      " 9   TAX      506 non-null    float64\n",
      " 10  PTRATIO  506 non-null    float64\n",
      " 11  B        506 non-null    float64\n",
      " 12  LSTAT    506 non-null    float64\n",
      " 13  Price    506 non-null    float64\n",
      "dtypes: float64(14)\n",
      "memory usage: 55.5 KB\n"
     ]
    }
   ],
   "source": [
    "df.info()"
   ]
  },
  {
   "cell_type": "code",
   "execution_count": 131,
   "id": "16046f1f",
   "metadata": {},
   "outputs": [
    {
     "data": {
      "text/plain": [
       "CRIM       0\n",
       "ZN         0\n",
       "INDUS      0\n",
       "CHAS       0\n",
       "NOX        0\n",
       "RM         0\n",
       "AGE        0\n",
       "DIS        0\n",
       "RAD        0\n",
       "TAX        0\n",
       "PTRATIO    0\n",
       "B          0\n",
       "LSTAT      0\n",
       "Price      0\n",
       "dtype: int64"
      ]
     },
     "execution_count": 131,
     "metadata": {},
     "output_type": "execute_result"
    }
   ],
   "source": [
    "df.isna().sum()"
   ]
  },
  {
   "cell_type": "code",
   "execution_count": 132,
   "id": "90e4b756",
   "metadata": {},
   "outputs": [
    {
     "data": {
      "text/html": [
       "<div>\n",
       "<style scoped>\n",
       "    .dataframe tbody tr th:only-of-type {\n",
       "        vertical-align: middle;\n",
       "    }\n",
       "\n",
       "    .dataframe tbody tr th {\n",
       "        vertical-align: top;\n",
       "    }\n",
       "\n",
       "    .dataframe thead th {\n",
       "        text-align: right;\n",
       "    }\n",
       "</style>\n",
       "<table border=\"1\" class=\"dataframe\">\n",
       "  <thead>\n",
       "    <tr style=\"text-align: right;\">\n",
       "      <th></th>\n",
       "      <th>count</th>\n",
       "      <th>mean</th>\n",
       "      <th>std</th>\n",
       "      <th>min</th>\n",
       "      <th>25%</th>\n",
       "      <th>50%</th>\n",
       "      <th>75%</th>\n",
       "      <th>max</th>\n",
       "    </tr>\n",
       "  </thead>\n",
       "  <tbody>\n",
       "    <tr>\n",
       "      <th>CRIM</th>\n",
       "      <td>506.0</td>\n",
       "      <td>3.613524</td>\n",
       "      <td>8.601545</td>\n",
       "      <td>0.00632</td>\n",
       "      <td>0.082045</td>\n",
       "      <td>0.25651</td>\n",
       "      <td>3.677083</td>\n",
       "      <td>88.9762</td>\n",
       "    </tr>\n",
       "    <tr>\n",
       "      <th>ZN</th>\n",
       "      <td>506.0</td>\n",
       "      <td>11.363636</td>\n",
       "      <td>23.322453</td>\n",
       "      <td>0.00000</td>\n",
       "      <td>0.000000</td>\n",
       "      <td>0.00000</td>\n",
       "      <td>12.500000</td>\n",
       "      <td>100.0000</td>\n",
       "    </tr>\n",
       "    <tr>\n",
       "      <th>INDUS</th>\n",
       "      <td>506.0</td>\n",
       "      <td>11.136779</td>\n",
       "      <td>6.860353</td>\n",
       "      <td>0.46000</td>\n",
       "      <td>5.190000</td>\n",
       "      <td>9.69000</td>\n",
       "      <td>18.100000</td>\n",
       "      <td>27.7400</td>\n",
       "    </tr>\n",
       "    <tr>\n",
       "      <th>CHAS</th>\n",
       "      <td>506.0</td>\n",
       "      <td>0.069170</td>\n",
       "      <td>0.253994</td>\n",
       "      <td>0.00000</td>\n",
       "      <td>0.000000</td>\n",
       "      <td>0.00000</td>\n",
       "      <td>0.000000</td>\n",
       "      <td>1.0000</td>\n",
       "    </tr>\n",
       "    <tr>\n",
       "      <th>NOX</th>\n",
       "      <td>506.0</td>\n",
       "      <td>0.554695</td>\n",
       "      <td>0.115878</td>\n",
       "      <td>0.38500</td>\n",
       "      <td>0.449000</td>\n",
       "      <td>0.53800</td>\n",
       "      <td>0.624000</td>\n",
       "      <td>0.8710</td>\n",
       "    </tr>\n",
       "    <tr>\n",
       "      <th>RM</th>\n",
       "      <td>506.0</td>\n",
       "      <td>6.284634</td>\n",
       "      <td>0.702617</td>\n",
       "      <td>3.56100</td>\n",
       "      <td>5.885500</td>\n",
       "      <td>6.20850</td>\n",
       "      <td>6.623500</td>\n",
       "      <td>8.7800</td>\n",
       "    </tr>\n",
       "    <tr>\n",
       "      <th>AGE</th>\n",
       "      <td>506.0</td>\n",
       "      <td>68.574901</td>\n",
       "      <td>28.148861</td>\n",
       "      <td>2.90000</td>\n",
       "      <td>45.025000</td>\n",
       "      <td>77.50000</td>\n",
       "      <td>94.075000</td>\n",
       "      <td>100.0000</td>\n",
       "    </tr>\n",
       "    <tr>\n",
       "      <th>DIS</th>\n",
       "      <td>506.0</td>\n",
       "      <td>3.795043</td>\n",
       "      <td>2.105710</td>\n",
       "      <td>1.12960</td>\n",
       "      <td>2.100175</td>\n",
       "      <td>3.20745</td>\n",
       "      <td>5.188425</td>\n",
       "      <td>12.1265</td>\n",
       "    </tr>\n",
       "    <tr>\n",
       "      <th>RAD</th>\n",
       "      <td>506.0</td>\n",
       "      <td>9.549407</td>\n",
       "      <td>8.707259</td>\n",
       "      <td>1.00000</td>\n",
       "      <td>4.000000</td>\n",
       "      <td>5.00000</td>\n",
       "      <td>24.000000</td>\n",
       "      <td>24.0000</td>\n",
       "    </tr>\n",
       "    <tr>\n",
       "      <th>TAX</th>\n",
       "      <td>506.0</td>\n",
       "      <td>408.237154</td>\n",
       "      <td>168.537116</td>\n",
       "      <td>187.00000</td>\n",
       "      <td>279.000000</td>\n",
       "      <td>330.00000</td>\n",
       "      <td>666.000000</td>\n",
       "      <td>711.0000</td>\n",
       "    </tr>\n",
       "    <tr>\n",
       "      <th>PTRATIO</th>\n",
       "      <td>506.0</td>\n",
       "      <td>18.455534</td>\n",
       "      <td>2.164946</td>\n",
       "      <td>12.60000</td>\n",
       "      <td>17.400000</td>\n",
       "      <td>19.05000</td>\n",
       "      <td>20.200000</td>\n",
       "      <td>22.0000</td>\n",
       "    </tr>\n",
       "    <tr>\n",
       "      <th>B</th>\n",
       "      <td>506.0</td>\n",
       "      <td>356.674032</td>\n",
       "      <td>91.294864</td>\n",
       "      <td>0.32000</td>\n",
       "      <td>375.377500</td>\n",
       "      <td>391.44000</td>\n",
       "      <td>396.225000</td>\n",
       "      <td>396.9000</td>\n",
       "    </tr>\n",
       "    <tr>\n",
       "      <th>LSTAT</th>\n",
       "      <td>506.0</td>\n",
       "      <td>12.653063</td>\n",
       "      <td>7.141062</td>\n",
       "      <td>1.73000</td>\n",
       "      <td>6.950000</td>\n",
       "      <td>11.36000</td>\n",
       "      <td>16.955000</td>\n",
       "      <td>37.9700</td>\n",
       "    </tr>\n",
       "    <tr>\n",
       "      <th>Price</th>\n",
       "      <td>506.0</td>\n",
       "      <td>22.532806</td>\n",
       "      <td>9.197104</td>\n",
       "      <td>5.00000</td>\n",
       "      <td>17.025000</td>\n",
       "      <td>21.20000</td>\n",
       "      <td>25.000000</td>\n",
       "      <td>50.0000</td>\n",
       "    </tr>\n",
       "  </tbody>\n",
       "</table>\n",
       "</div>"
      ],
      "text/plain": [
       "         count        mean         std        min         25%        50%  \\\n",
       "CRIM     506.0    3.613524    8.601545    0.00632    0.082045    0.25651   \n",
       "ZN       506.0   11.363636   23.322453    0.00000    0.000000    0.00000   \n",
       "INDUS    506.0   11.136779    6.860353    0.46000    5.190000    9.69000   \n",
       "CHAS     506.0    0.069170    0.253994    0.00000    0.000000    0.00000   \n",
       "NOX      506.0    0.554695    0.115878    0.38500    0.449000    0.53800   \n",
       "RM       506.0    6.284634    0.702617    3.56100    5.885500    6.20850   \n",
       "AGE      506.0   68.574901   28.148861    2.90000   45.025000   77.50000   \n",
       "DIS      506.0    3.795043    2.105710    1.12960    2.100175    3.20745   \n",
       "RAD      506.0    9.549407    8.707259    1.00000    4.000000    5.00000   \n",
       "TAX      506.0  408.237154  168.537116  187.00000  279.000000  330.00000   \n",
       "PTRATIO  506.0   18.455534    2.164946   12.60000   17.400000   19.05000   \n",
       "B        506.0  356.674032   91.294864    0.32000  375.377500  391.44000   \n",
       "LSTAT    506.0   12.653063    7.141062    1.73000    6.950000   11.36000   \n",
       "Price    506.0   22.532806    9.197104    5.00000   17.025000   21.20000   \n",
       "\n",
       "                75%       max  \n",
       "CRIM       3.677083   88.9762  \n",
       "ZN        12.500000  100.0000  \n",
       "INDUS     18.100000   27.7400  \n",
       "CHAS       0.000000    1.0000  \n",
       "NOX        0.624000    0.8710  \n",
       "RM         6.623500    8.7800  \n",
       "AGE       94.075000  100.0000  \n",
       "DIS        5.188425   12.1265  \n",
       "RAD       24.000000   24.0000  \n",
       "TAX      666.000000  711.0000  \n",
       "PTRATIO   20.200000   22.0000  \n",
       "B        396.225000  396.9000  \n",
       "LSTAT     16.955000   37.9700  \n",
       "Price     25.000000   50.0000  "
      ]
     },
     "execution_count": 132,
     "metadata": {},
     "output_type": "execute_result"
    }
   ],
   "source": [
    "df.describe().T"
   ]
  },
  {
   "cell_type": "code",
   "execution_count": 133,
   "id": "3e367ea3",
   "metadata": {},
   "outputs": [],
   "source": [
    "bsDesc=[]\n",
    "for i in df.columns:\n",
    "    bsDesc.append([ #append untuk masukin masing2 dtypes, dll ke bsDesc diatas\n",
    "        i,\n",
    "        df[i].dtypes,\n",
    "        df[i].isna().sum(),\n",
    "        round((df[i].isna().sum() / len(df)) * 100,2),\n",
    "        df[i].nunique(),\n",
    "        df[i].drop_duplicates().sample(2).values\n",
    "    ])"
   ]
  },
  {
   "cell_type": "code",
   "execution_count": 134,
   "id": "211e4c24",
   "metadata": {},
   "outputs": [
    {
     "data": {
      "text/html": [
       "<div>\n",
       "<style scoped>\n",
       "    .dataframe tbody tr th:only-of-type {\n",
       "        vertical-align: middle;\n",
       "    }\n",
       "\n",
       "    .dataframe tbody tr th {\n",
       "        vertical-align: top;\n",
       "    }\n",
       "\n",
       "    .dataframe thead th {\n",
       "        text-align: right;\n",
       "    }\n",
       "</style>\n",
       "<table border=\"1\" class=\"dataframe\">\n",
       "  <thead>\n",
       "    <tr style=\"text-align: right;\">\n",
       "      <th></th>\n",
       "      <th>Feature</th>\n",
       "      <th>DataTypes</th>\n",
       "      <th>Null</th>\n",
       "      <th>NullPercentage</th>\n",
       "      <th>Unique</th>\n",
       "      <th>UniqueSample</th>\n",
       "    </tr>\n",
       "  </thead>\n",
       "  <tbody>\n",
       "    <tr>\n",
       "      <th>0</th>\n",
       "      <td>CRIM</td>\n",
       "      <td>float64</td>\n",
       "      <td>0</td>\n",
       "      <td>0.0</td>\n",
       "      <td>504</td>\n",
       "      <td>[0.17446, 0.84054]</td>\n",
       "    </tr>\n",
       "    <tr>\n",
       "      <th>1</th>\n",
       "      <td>ZN</td>\n",
       "      <td>float64</td>\n",
       "      <td>0</td>\n",
       "      <td>0.0</td>\n",
       "      <td>26</td>\n",
       "      <td>[22.0, 12.5]</td>\n",
       "    </tr>\n",
       "    <tr>\n",
       "      <th>2</th>\n",
       "      <td>INDUS</td>\n",
       "      <td>float64</td>\n",
       "      <td>0</td>\n",
       "      <td>0.0</td>\n",
       "      <td>76</td>\n",
       "      <td>[0.46, 9.9]</td>\n",
       "    </tr>\n",
       "    <tr>\n",
       "      <th>3</th>\n",
       "      <td>CHAS</td>\n",
       "      <td>float64</td>\n",
       "      <td>0</td>\n",
       "      <td>0.0</td>\n",
       "      <td>2</td>\n",
       "      <td>[1.0, 0.0]</td>\n",
       "    </tr>\n",
       "    <tr>\n",
       "      <th>4</th>\n",
       "      <td>NOX</td>\n",
       "      <td>float64</td>\n",
       "      <td>0</td>\n",
       "      <td>0.0</td>\n",
       "      <td>81</td>\n",
       "      <td>[0.431, 0.58]</td>\n",
       "    </tr>\n",
       "    <tr>\n",
       "      <th>5</th>\n",
       "      <td>RM</td>\n",
       "      <td>float64</td>\n",
       "      <td>0</td>\n",
       "      <td>0.0</td>\n",
       "      <td>446</td>\n",
       "      <td>[5.834, 6.456]</td>\n",
       "    </tr>\n",
       "    <tr>\n",
       "      <th>6</th>\n",
       "      <td>AGE</td>\n",
       "      <td>float64</td>\n",
       "      <td>0</td>\n",
       "      <td>0.0</td>\n",
       "      <td>356</td>\n",
       "      <td>[69.6, 28.4]</td>\n",
       "    </tr>\n",
       "    <tr>\n",
       "      <th>7</th>\n",
       "      <td>DIS</td>\n",
       "      <td>float64</td>\n",
       "      <td>0</td>\n",
       "      <td>0.0</td>\n",
       "      <td>412</td>\n",
       "      <td>[5.615, 2.5182]</td>\n",
       "    </tr>\n",
       "    <tr>\n",
       "      <th>8</th>\n",
       "      <td>RAD</td>\n",
       "      <td>float64</td>\n",
       "      <td>0</td>\n",
       "      <td>0.0</td>\n",
       "      <td>9</td>\n",
       "      <td>[4.0, 7.0]</td>\n",
       "    </tr>\n",
       "    <tr>\n",
       "      <th>9</th>\n",
       "      <td>TAX</td>\n",
       "      <td>float64</td>\n",
       "      <td>0</td>\n",
       "      <td>0.0</td>\n",
       "      <td>66</td>\n",
       "      <td>[264.0, 198.0]</td>\n",
       "    </tr>\n",
       "    <tr>\n",
       "      <th>10</th>\n",
       "      <td>PTRATIO</td>\n",
       "      <td>float64</td>\n",
       "      <td>0</td>\n",
       "      <td>0.0</td>\n",
       "      <td>46</td>\n",
       "      <td>[18.0, 21.2]</td>\n",
       "    </tr>\n",
       "    <tr>\n",
       "      <th>11</th>\n",
       "      <td>B</td>\n",
       "      <td>float64</td>\n",
       "      <td>0</td>\n",
       "      <td>0.0</td>\n",
       "      <td>357</td>\n",
       "      <td>[388.69, 390.64]</td>\n",
       "    </tr>\n",
       "    <tr>\n",
       "      <th>12</th>\n",
       "      <td>LSTAT</td>\n",
       "      <td>float64</td>\n",
       "      <td>0</td>\n",
       "      <td>0.0</td>\n",
       "      <td>455</td>\n",
       "      <td>[37.97, 8.93]</td>\n",
       "    </tr>\n",
       "    <tr>\n",
       "      <th>13</th>\n",
       "      <td>Price</td>\n",
       "      <td>float64</td>\n",
       "      <td>0</td>\n",
       "      <td>0.0</td>\n",
       "      <td>229</td>\n",
       "      <td>[24.3, 46.0]</td>\n",
       "    </tr>\n",
       "  </tbody>\n",
       "</table>\n",
       "</div>"
      ],
      "text/plain": [
       "    Feature DataTypes  Null  NullPercentage  Unique        UniqueSample\n",
       "0      CRIM   float64     0             0.0     504  [0.17446, 0.84054]\n",
       "1        ZN   float64     0             0.0      26        [22.0, 12.5]\n",
       "2     INDUS   float64     0             0.0      76         [0.46, 9.9]\n",
       "3      CHAS   float64     0             0.0       2          [1.0, 0.0]\n",
       "4       NOX   float64     0             0.0      81       [0.431, 0.58]\n",
       "5        RM   float64     0             0.0     446      [5.834, 6.456]\n",
       "6       AGE   float64     0             0.0     356        [69.6, 28.4]\n",
       "7       DIS   float64     0             0.0     412     [5.615, 2.5182]\n",
       "8       RAD   float64     0             0.0       9          [4.0, 7.0]\n",
       "9       TAX   float64     0             0.0      66      [264.0, 198.0]\n",
       "10  PTRATIO   float64     0             0.0      46        [18.0, 21.2]\n",
       "11        B   float64     0             0.0     357    [388.69, 390.64]\n",
       "12    LSTAT   float64     0             0.0     455       [37.97, 8.93]\n",
       "13    Price   float64     0             0.0     229        [24.3, 46.0]"
      ]
     },
     "execution_count": 134,
     "metadata": {},
     "output_type": "execute_result"
    }
   ],
   "source": [
    "pd.DataFrame(data=bsDesc,\n",
    "            columns=[\n",
    "               'Feature',\n",
    "               'DataTypes',\n",
    "               'Null',\n",
    "               'NullPercentage',\n",
    "               'Unique',\n",
    "               'UniqueSample'\n",
    "            ])"
   ]
  },
  {
   "cell_type": "code",
   "execution_count": 135,
   "id": "ed2a7bc4",
   "metadata": {},
   "outputs": [
    {
     "data": {
      "image/png": "[encoded data removed]",
      "text/plain": [
       "<Figure size 432x288 with 1 Axes>"
      ]
     },
     "metadata": {
      "needs_background": "light"
     },
     "output_type": "display_data"
    }
   ],
   "source": [
    "sns.boxplot(df['Price'])\n",
    "plt.show()\n",
    "#mencari tahu outlier"
   ]
  },
  {
   "cell_type": "code",
   "execution_count": 136,
   "id": "4bee108e",
   "metadata": {},
   "outputs": [
    {
     "data": {
      "image/png": "[encoded data removed]",
      "text/plain": [
       "<Figure size 432x288 with 1 Axes>"
      ]
     },
     "metadata": {
      "needs_background": "light"
     },
     "output_type": "display_data"
    }
   ],
   "source": [
    "sns.distplot(df['Price'])\n",
    "plt.show()\n",
    "#cari tahu outliers"
   ]
  },
  {
   "cell_type": "code",
   "execution_count": 137,
   "id": "5894ae50",
   "metadata": {},
   "outputs": [
    {
     "data": {
      "image/png": "[encoded data removed]",
      "text/plain": [
       "<Figure size 864x720 with 2 Axes>"
      ]
     },
     "metadata": {
      "needs_background": "light"
     },
     "output_type": "display_data"
    }
   ],
   "source": [
    "### Pearson\n",
    "plt.figure(figsize=(12,10))\n",
    "sns.heatmap(df.corr('pearson'), annot=True)\n",
    "plt.show()"
   ]
  },
  {
   "cell_type": "code",
   "execution_count": 138,
   "id": "be37ea90",
   "metadata": {},
   "outputs": [
    {
     "data": {
      "image/png": "[encoded data removed]",
      "text/plain": [
       "<Figure size 864x720 with 2 Axes>"
      ]
     },
     "metadata": {
      "needs_background": "light"
     },
     "output_type": "display_data"
    }
   ],
   "source": [
    "### spearman\n",
    "plt.figure(figsize=(12,10))\n",
    "sns.heatmap(df.corr('spearman'), annot=True)\n",
    "plt.show()"
   ]
  },
  {
   "cell_type": "code",
   "execution_count": 139,
   "id": "180ef864",
   "metadata": {},
   "outputs": [],
   "source": [
    "### feature engineering & feature selection"
   ]
  },
  {
   "cell_type": "markdown",
   "id": "a6c98696",
   "metadata": {},
   "source": [
    "# Feature Selection\n",
    "- memilih feature yg akan digunakan untuk training model belajar\n",
    "  salah satu cara yg digunakan adalah menggunakan korelasi\n",
    "- Drop kolom yg memiliki korelasi di bawah 0.5 atau -0.5\n",
    "- Range korelasi antara -0.5/0.5 yg digunakan sesuaikan dg kondisi"
   ]
  },
  {
   "cell_type": "code",
   "execution_count": 140,
   "id": "a9428487",
   "metadata": {},
   "outputs": [
    {
     "data": {
      "text/html": [
       "<div>\n",
       "<style scoped>\n",
       "    .dataframe tbody tr th:only-of-type {\n",
       "        vertical-align: middle;\n",
       "    }\n",
       "\n",
       "    .dataframe tbody tr th {\n",
       "        vertical-align: top;\n",
       "    }\n",
       "\n",
       "    .dataframe thead th {\n",
       "        text-align: right;\n",
       "    }\n",
       "</style>\n",
       "<table border=\"1\" class=\"dataframe\">\n",
       "  <thead>\n",
       "    <tr style=\"text-align: right;\">\n",
       "      <th></th>\n",
       "      <th>CRIM</th>\n",
       "      <th>INDUS</th>\n",
       "      <th>NOX</th>\n",
       "      <th>RM</th>\n",
       "      <th>AGE</th>\n",
       "      <th>TAX</th>\n",
       "      <th>PTRATIO</th>\n",
       "      <th>LSTAT</th>\n",
       "      <th>Price</th>\n",
       "    </tr>\n",
       "  </thead>\n",
       "  <tbody>\n",
       "    <tr>\n",
       "      <th>0</th>\n",
       "      <td>0.00632</td>\n",
       "      <td>2.31</td>\n",
       "      <td>0.538</td>\n",
       "      <td>6.575</td>\n",
       "      <td>65.2</td>\n",
       "      <td>296.0</td>\n",
       "      <td>15.3</td>\n",
       "      <td>4.98</td>\n",
       "      <td>24.0</td>\n",
       "    </tr>\n",
       "    <tr>\n",
       "      <th>1</th>\n",
       "      <td>0.02731</td>\n",
       "      <td>7.07</td>\n",
       "      <td>0.469</td>\n",
       "      <td>6.421</td>\n",
       "      <td>78.9</td>\n",
       "      <td>242.0</td>\n",
       "      <td>17.8</td>\n",
       "      <td>9.14</td>\n",
       "      <td>21.6</td>\n",
       "    </tr>\n",
       "    <tr>\n",
       "      <th>2</th>\n",
       "      <td>0.02729</td>\n",
       "      <td>7.07</td>\n",
       "      <td>0.469</td>\n",
       "      <td>7.185</td>\n",
       "      <td>61.1</td>\n",
       "      <td>242.0</td>\n",
       "      <td>17.8</td>\n",
       "      <td>4.03</td>\n",
       "      <td>34.7</td>\n",
       "    </tr>\n",
       "    <tr>\n",
       "      <th>3</th>\n",
       "      <td>0.03237</td>\n",
       "      <td>2.18</td>\n",
       "      <td>0.458</td>\n",
       "      <td>6.998</td>\n",
       "      <td>45.8</td>\n",
       "      <td>222.0</td>\n",
       "      <td>18.7</td>\n",
       "      <td>2.94</td>\n",
       "      <td>33.4</td>\n",
       "    </tr>\n",
       "    <tr>\n",
       "      <th>4</th>\n",
       "      <td>0.06905</td>\n",
       "      <td>2.18</td>\n",
       "      <td>0.458</td>\n",
       "      <td>7.147</td>\n",
       "      <td>54.2</td>\n",
       "      <td>222.0</td>\n",
       "      <td>18.7</td>\n",
       "      <td>5.33</td>\n",
       "      <td>36.2</td>\n",
       "    </tr>\n",
       "    <tr>\n",
       "      <th>...</th>\n",
       "      <td>...</td>\n",
       "      <td>...</td>\n",
       "      <td>...</td>\n",
       "      <td>...</td>\n",
       "      <td>...</td>\n",
       "      <td>...</td>\n",
       "      <td>...</td>\n",
       "      <td>...</td>\n",
       "      <td>...</td>\n",
       "    </tr>\n",
       "    <tr>\n",
       "      <th>501</th>\n",
       "      <td>0.06263</td>\n",
       "      <td>11.93</td>\n",
       "      <td>0.573</td>\n",
       "      <td>6.593</td>\n",
       "      <td>69.1</td>\n",
       "      <td>273.0</td>\n",
       "      <td>21.0</td>\n",
       "      <td>9.67</td>\n",
       "      <td>22.4</td>\n",
       "    </tr>\n",
       "    <tr>\n",
       "      <th>502</th>\n",
       "      <td>0.04527</td>\n",
       "      <td>11.93</td>\n",
       "      <td>0.573</td>\n",
       "      <td>6.120</td>\n",
       "      <td>76.7</td>\n",
       "      <td>273.0</td>\n",
       "      <td>21.0</td>\n",
       "      <td>9.08</td>\n",
       "      <td>20.6</td>\n",
       "    </tr>\n",
       "    <tr>\n",
       "      <th>503</th>\n",
       "      <td>0.06076</td>\n",
       "      <td>11.93</td>\n",
       "      <td>0.573</td>\n",
       "      <td>6.976</td>\n",
       "      <td>91.0</td>\n",
       "      <td>273.0</td>\n",
       "      <td>21.0</td>\n",
       "      <td>5.64</td>\n",
       "      <td>23.9</td>\n",
       "    </tr>\n",
       "    <tr>\n",
       "      <th>504</th>\n",
       "      <td>0.10959</td>\n",
       "      <td>11.93</td>\n",
       "      <td>0.573</td>\n",
       "      <td>6.794</td>\n",
       "      <td>89.3</td>\n",
       "      <td>273.0</td>\n",
       "      <td>21.0</td>\n",
       "      <td>6.48</td>\n",
       "      <td>22.0</td>\n",
       "    </tr>\n",
       "    <tr>\n",
       "      <th>505</th>\n",
       "      <td>0.04741</td>\n",
       "      <td>11.93</td>\n",
       "      <td>0.573</td>\n",
       "      <td>6.030</td>\n",
       "      <td>80.8</td>\n",
       "      <td>273.0</td>\n",
       "      <td>21.0</td>\n",
       "      <td>7.88</td>\n",
       "      <td>11.9</td>\n",
       "    </tr>\n",
       "  </tbody>\n",
       "</table>\n",
       "<p>506 rows × 9 columns</p>\n",
       "</div>"
      ],
      "text/plain": [
       "        CRIM  INDUS    NOX     RM   AGE    TAX  PTRATIO  LSTAT  Price\n",
       "0    0.00632   2.31  0.538  6.575  65.2  296.0     15.3   4.98   24.0\n",
       "1    0.02731   7.07  0.469  6.421  78.9  242.0     17.8   9.14   21.6\n",
       "2    0.02729   7.07  0.469  7.185  61.1  242.0     17.8   4.03   34.7\n",
       "3    0.03237   2.18  0.458  6.998  45.8  222.0     18.7   2.94   33.4\n",
       "4    0.06905   2.18  0.458  7.147  54.2  222.0     18.7   5.33   36.2\n",
       "..       ...    ...    ...    ...   ...    ...      ...    ...    ...\n",
       "501  0.06263  11.93  0.573  6.593  69.1  273.0     21.0   9.67   22.4\n",
       "502  0.04527  11.93  0.573  6.120  76.7  273.0     21.0   9.08   20.6\n",
       "503  0.06076  11.93  0.573  6.976  91.0  273.0     21.0   5.64   23.9\n",
       "504  0.10959  11.93  0.573  6.794  89.3  273.0     21.0   6.48   22.0\n",
       "505  0.04741  11.93  0.573  6.030  80.8  273.0     21.0   7.88   11.9\n",
       "\n",
       "[506 rows x 9 columns]"
      ]
     },
     "execution_count": 140,
     "metadata": {},
     "output_type": "execute_result"
    }
   ],
   "source": [
    "# Drop kolom yg memiliki korelasi di bawah 0.5 atau -0.5\n",
    "df.drop(columns=['ZN','CHAS','DIS','RAD','B'])"
   ]
  },
  {
   "cell_type": "code",
   "execution_count": 141,
   "id": "63c83bce",
   "metadata": {},
   "outputs": [
    {
     "data": {
      "text/html": [
       "<div>\n",
       "<style scoped>\n",
       "    .dataframe tbody tr th:only-of-type {\n",
       "        vertical-align: middle;\n",
       "    }\n",
       "\n",
       "    .dataframe tbody tr th {\n",
       "        vertical-align: top;\n",
       "    }\n",
       "\n",
       "    .dataframe thead th {\n",
       "        text-align: right;\n",
       "    }\n",
       "</style>\n",
       "<table border=\"1\" class=\"dataframe\">\n",
       "  <thead>\n",
       "    <tr style=\"text-align: right;\">\n",
       "      <th></th>\n",
       "      <th>CRIM</th>\n",
       "      <th>INDUS</th>\n",
       "      <th>NOX</th>\n",
       "      <th>RM</th>\n",
       "      <th>AGE</th>\n",
       "      <th>TAX</th>\n",
       "      <th>PTRATIO</th>\n",
       "      <th>LSTAT</th>\n",
       "      <th>Price</th>\n",
       "    </tr>\n",
       "  </thead>\n",
       "  <tbody>\n",
       "    <tr>\n",
       "      <th>0</th>\n",
       "      <td>0.00632</td>\n",
       "      <td>2.31</td>\n",
       "      <td>0.538</td>\n",
       "      <td>6.575</td>\n",
       "      <td>65.2</td>\n",
       "      <td>296.0</td>\n",
       "      <td>15.3</td>\n",
       "      <td>4.98</td>\n",
       "      <td>24.0</td>\n",
       "    </tr>\n",
       "    <tr>\n",
       "      <th>1</th>\n",
       "      <td>0.02731</td>\n",
       "      <td>7.07</td>\n",
       "      <td>0.469</td>\n",
       "      <td>6.421</td>\n",
       "      <td>78.9</td>\n",
       "      <td>242.0</td>\n",
       "      <td>17.8</td>\n",
       "      <td>9.14</td>\n",
       "      <td>21.6</td>\n",
       "    </tr>\n",
       "    <tr>\n",
       "      <th>2</th>\n",
       "      <td>0.02729</td>\n",
       "      <td>7.07</td>\n",
       "      <td>0.469</td>\n",
       "      <td>7.185</td>\n",
       "      <td>61.1</td>\n",
       "      <td>242.0</td>\n",
       "      <td>17.8</td>\n",
       "      <td>4.03</td>\n",
       "      <td>34.7</td>\n",
       "    </tr>\n",
       "    <tr>\n",
       "      <th>3</th>\n",
       "      <td>0.03237</td>\n",
       "      <td>2.18</td>\n",
       "      <td>0.458</td>\n",
       "      <td>6.998</td>\n",
       "      <td>45.8</td>\n",
       "      <td>222.0</td>\n",
       "      <td>18.7</td>\n",
       "      <td>2.94</td>\n",
       "      <td>33.4</td>\n",
       "    </tr>\n",
       "    <tr>\n",
       "      <th>4</th>\n",
       "      <td>0.06905</td>\n",
       "      <td>2.18</td>\n",
       "      <td>0.458</td>\n",
       "      <td>7.147</td>\n",
       "      <td>54.2</td>\n",
       "      <td>222.0</td>\n",
       "      <td>18.7</td>\n",
       "      <td>5.33</td>\n",
       "      <td>36.2</td>\n",
       "    </tr>\n",
       "  </tbody>\n",
       "</table>\n",
       "</div>"
      ],
      "text/plain": [
       "      CRIM  INDUS    NOX     RM   AGE    TAX  PTRATIO  LSTAT  Price\n",
       "0  0.00632   2.31  0.538  6.575  65.2  296.0     15.3   4.98   24.0\n",
       "1  0.02731   7.07  0.469  6.421  78.9  242.0     17.8   9.14   21.6\n",
       "2  0.02729   7.07  0.469  7.185  61.1  242.0     17.8   4.03   34.7\n",
       "3  0.03237   2.18  0.458  6.998  45.8  222.0     18.7   2.94   33.4\n",
       "4  0.06905   2.18  0.458  7.147  54.2  222.0     18.7   5.33   36.2"
      ]
     },
     "execution_count": 141,
     "metadata": {},
     "output_type": "execute_result"
    }
   ],
   "source": [
    "df.drop(columns=['ZN','CHAS','DIS','RAD','B'], inplace=True)\n",
    "df.head()"
   ]
  },
  {
   "cell_type": "code",
   "execution_count": 142,
   "id": "11c9cc61",
   "metadata": {},
   "outputs": [],
   "source": [
    "X = df.drop(columns='Price')\n",
    "y = df['Price']"
   ]
  },
  {
   "cell_type": "markdown",
   "id": "961058f4",
   "metadata": {},
   "source": [
    "# Spliting data (Training & Testing)"
   ]
  },
  {
   "cell_type": "markdown",
   "id": "e1c4c068",
   "metadata": {},
   "source": [
    "## Machine Learning\n",
    "- Bertujuan bisa memprediksi atau menjawab soal/data baru(yg tidak ada di dataset)\n",
    "- Data baru adalah data yg belum dipelajari oleh model\n",
    "- Data baru adalah data yg sama sekali belum 'dilihat', belum diketahui polanya oleh model\n",
    "\n",
    "model belajar -> model mempelajari pattern yg ada pada training model\n",
    "Proses Training Model -> .fit(x,y) -> .fit(soal,jawaban)\n",
    "Soal -> kolom feature(X)\n",
    "Jawaban -> kolom target(y)\n",
    "\n",
    "## Evaluation Matrix\n",
    "- Penilaian sebaik apa model kita\n",
    "- Membandingkan jawaban model dibandingkan dg 'kunci jawaban'\n",
    "- 'Kunci jawaban' adalah data aktual yg kita punya (data target)\n",
    "- 'Jawaban MOdel' adalah prediksi dari model\n",
    "\n",
    "## Splitting Data\n",
    "Dataset yg ada dipotong jadi 2\n",
    "1. Data untuk training/belajar\n",
    "2. Data untuk testing -> data untuk simulasi data baru\n",
    "Data untuk training -> data yg akan dipelajari patternya oleh model, model sudah tahu feature dan targetnya\n",
    "Data untuk testing -> data yg sama sekali blm diliat dan dipelajari oleh model dan akan diprediksi sebagai\n",
    "simulasi data baru\n",
    "\n",
    "Dataset(100%)\n",
    "akan dipisah menjadi :\n",
    "Data training (80%) -> data akan dipelajari oleh model, digunakan untuk belajar, latihan try out\n",
    "Mempelajari Pattern antara feature & target\n",
    "Data testing(20%) -> data yg digunakan untuk ujian sesungguhnya, evaluation matrix yg utama/penilaian yg sesungguhnya\n",
    "\n",
    "Distribusi Train and test, cari yg ideal atau proportional. Umumnya 70%-85% untuk train, 15%-30% untk test.\n",
    "Jumlah train Train + Test = 100%\n",
    "Goals secara umum untuk ML(Supervised ML) bertujuan mendapatkan sebagus mungkin nilai evaluation matrix untuk\n",
    "data testing yg sesungguhnya\n",
    "\n",
    "Data training (data yg dipelajari model) adalah data yg digunakan untuk model mencari pattern/try out \n",
    "-> evaluation matrix -> dinilai\n",
    "Data testing (ujian sesungguhnya/data yg sama sekali blm dilihat oleh model) -> evaluation matrix -> evaluation matrix -> dinilai -> dipelajari/dilihat/diketahui ---> .fit(data)\n",
    "\n",
    "> Underfitting -> dua-duanya jelek -> nilai evaluation matrix untuk data training maupun testing jelek berdasarkan evaluation matrix\n",
    "> Overfitting -> nilai evaluation matrix untuk training bagus, untuk testing jelek. Ada perbedaan yg segnifikan antara nilai eva matrix training dan nilai eva matrix testing.\n",
    "Ada selisih sekitar lebih dari 5 poin\n",
    "Misal eva matrix train -> 80, eva matrix test -> 72\n",
    "> Fit -> nilai evaluation matrix untuk training dan testing bagus atau tidak ada perbedaan signifikan anatara nilai eva matrix train ->85, eva matrix testing -> 83\n",
    "\n",
    "Misal ada kasus\n",
    "Model A :\n",
    "Eva matrix train -> 93\n",
    "Eva matrix testing -> 82\n",
    "\n",
    "Model B :\n",
    "Eva matrix train -> 84\n",
    "Eva matrix testing -> 81\n",
    "\n",
    "Kita akan memilih model B, karena lebih fit dan stabil,\n",
    "model A overfitting"
   ]
  },
  {
   "cell_type": "markdown",
   "id": "9758fb20",
   "metadata": {},
   "source": [
    "## Splitting Dataset"
   ]
  },
  {
   "cell_type": "code",
   "execution_count": 144,
   "id": "450f2b8a",
   "metadata": {},
   "outputs": [],
   "source": [
    "X = df.drop(columns='Price') #features/soal\n",
    "y = df['Price'] # target/jawaban"
   ]
  },
  {
   "cell_type": "code",
   "execution_count": 145,
   "id": "950acca0",
   "metadata": {},
   "outputs": [],
   "source": [
    "from sklearn.model_selection import train_test_split"
   ]
  },
  {
   "cell_type": "code",
   "execution_count": 146,
   "id": "4238c673",
   "metadata": {},
   "outputs": [],
   "source": [
    "X_train,X_test,y_train,y_test = train_test_split(X,y,test_size= 0.15,random_state=4)\n",
    "#random state untuk mengunci randomness yg dilakukan hanya sekali"
   ]
  },
  {
   "cell_type": "raw",
   "id": "61252bd2",
   "metadata": {},
   "source": [
    "#X = kolom features y = kolom tager\n",
    "# test_size= 0.15 -> proporsi data yg akan digunkan untuk testing (15%)\n",
    "# sisanya akan digunakan untuk training -> 85%\n",
    "# ada 2 opsi kita bisa menggunakan parameter train_size = atau test_size = (pilih salah satu)\n",
    "# untuk isinya ada 2 opsi, jumlah langsung baris datanya atau presentase datanya\n",
    "Misal\n",
    "train_size = 500 -> 500 baris data akan digunakan untuk training\n",
    "train_size = 75% -> 75% dari total baris data akan digunakan untuk training\n",
    "\n",
    "Data yg akan dipilih untuk traiing atau testing dilakukan secra random"
   ]
  },
  {
   "cell_type": "code",
   "execution_count": 147,
   "id": "0a99cf92",
   "metadata": {},
   "outputs": [
    {
     "data": {
      "text/html": [
       "<div>\n",
       "<style scoped>\n",
       "    .dataframe tbody tr th:only-of-type {\n",
       "        vertical-align: middle;\n",
       "    }\n",
       "\n",
       "    .dataframe tbody tr th {\n",
       "        vertical-align: top;\n",
       "    }\n",
       "\n",
       "    .dataframe thead th {\n",
       "        text-align: right;\n",
       "    }\n",
       "</style>\n",
       "<table border=\"1\" class=\"dataframe\">\n",
       "  <thead>\n",
       "    <tr style=\"text-align: right;\">\n",
       "      <th></th>\n",
       "      <th>CRIM</th>\n",
       "      <th>INDUS</th>\n",
       "      <th>NOX</th>\n",
       "      <th>RM</th>\n",
       "      <th>AGE</th>\n",
       "      <th>TAX</th>\n",
       "      <th>PTRATIO</th>\n",
       "      <th>LSTAT</th>\n",
       "    </tr>\n",
       "  </thead>\n",
       "  <tbody>\n",
       "    <tr>\n",
       "      <th>139</th>\n",
       "      <td>0.54452</td>\n",
       "      <td>21.89</td>\n",
       "      <td>0.624</td>\n",
       "      <td>6.151</td>\n",
       "      <td>97.9</td>\n",
       "      <td>437.0</td>\n",
       "      <td>21.2</td>\n",
       "      <td>18.46</td>\n",
       "    </tr>\n",
       "    <tr>\n",
       "      <th>314</th>\n",
       "      <td>0.36920</td>\n",
       "      <td>9.90</td>\n",
       "      <td>0.544</td>\n",
       "      <td>6.567</td>\n",
       "      <td>87.3</td>\n",
       "      <td>304.0</td>\n",
       "      <td>18.4</td>\n",
       "      <td>9.28</td>\n",
       "    </tr>\n",
       "    <tr>\n",
       "      <th>427</th>\n",
       "      <td>37.66190</td>\n",
       "      <td>18.10</td>\n",
       "      <td>0.679</td>\n",
       "      <td>6.202</td>\n",
       "      <td>78.7</td>\n",
       "      <td>666.0</td>\n",
       "      <td>20.2</td>\n",
       "      <td>14.52</td>\n",
       "    </tr>\n",
       "    <tr>\n",
       "      <th>102</th>\n",
       "      <td>0.22876</td>\n",
       "      <td>8.56</td>\n",
       "      <td>0.520</td>\n",
       "      <td>6.405</td>\n",
       "      <td>85.4</td>\n",
       "      <td>384.0</td>\n",
       "      <td>20.9</td>\n",
       "      <td>10.63</td>\n",
       "    </tr>\n",
       "    <tr>\n",
       "      <th>45</th>\n",
       "      <td>0.17142</td>\n",
       "      <td>6.91</td>\n",
       "      <td>0.448</td>\n",
       "      <td>5.682</td>\n",
       "      <td>33.8</td>\n",
       "      <td>233.0</td>\n",
       "      <td>17.9</td>\n",
       "      <td>10.21</td>\n",
       "    </tr>\n",
       "  </tbody>\n",
       "</table>\n",
       "</div>"
      ],
      "text/plain": [
       "         CRIM  INDUS    NOX     RM   AGE    TAX  PTRATIO  LSTAT\n",
       "139   0.54452  21.89  0.624  6.151  97.9  437.0     21.2  18.46\n",
       "314   0.36920   9.90  0.544  6.567  87.3  304.0     18.4   9.28\n",
       "427  37.66190  18.10  0.679  6.202  78.7  666.0     20.2  14.52\n",
       "102   0.22876   8.56  0.520  6.405  85.4  384.0     20.9  10.63\n",
       "45    0.17142   6.91  0.448  5.682  33.8  233.0     17.9  10.21"
      ]
     },
     "execution_count": 147,
     "metadata": {},
     "output_type": "execute_result"
    }
   ],
   "source": [
    "X_train.head()\n",
    "#data soal ujian sesungguhnya"
   ]
  },
  {
   "cell_type": "code",
   "execution_count": 148,
   "id": "82467413",
   "metadata": {},
   "outputs": [
    {
     "data": {
      "text/plain": [
       "139    17.8\n",
       "314    23.8\n",
       "427    10.9\n",
       "102    18.6\n",
       "45     19.3\n",
       "Name: Price, dtype: float64"
      ]
     },
     "execution_count": 148,
     "metadata": {},
     "output_type": "execute_result"
    }
   ],
   "source": [
    "y_train.head()\n",
    "#kunci jawaban soal try out"
   ]
  },
  {
   "cell_type": "code",
   "execution_count": 149,
   "id": "fe4c3e06",
   "metadata": {},
   "outputs": [
    {
     "data": {
      "text/plain": [
       "8      16.5\n",
       "289    24.8\n",
       "68     17.4\n",
       "211    19.3\n",
       "226    37.6\n",
       "Name: Price, dtype: float64"
      ]
     },
     "execution_count": 149,
     "metadata": {},
     "output_type": "execute_result"
    }
   ],
   "source": [
    "y_test.head()"
   ]
  },
  {
   "cell_type": "code",
   "execution_count": 150,
   "id": "80eb42d5",
   "metadata": {},
   "outputs": [
    {
     "data": {
      "text/plain": [
       "(430, 8)"
      ]
     },
     "execution_count": 150,
     "metadata": {},
     "output_type": "execute_result"
    }
   ],
   "source": [
    "X_train.shape"
   ]
  },
  {
   "cell_type": "markdown",
   "id": "54051bff",
   "metadata": {},
   "source": [
    "## ML Modelling"
   ]
  },
  {
   "cell_type": "code",
   "execution_count": 151,
   "id": "7887b3ab",
   "metadata": {},
   "outputs": [],
   "source": [
    "from sklearn.linear_model import LinearRegression"
   ]
  },
  {
   "cell_type": "markdown",
   "id": "dbc6e966",
   "metadata": {},
   "source": [
    "y = ax + b"
   ]
  },
  {
   "cell_type": "code",
   "execution_count": 152,
   "id": "4776c1ec",
   "metadata": {},
   "outputs": [],
   "source": [
    "Model = LinearRegression(fit_intercept=True)\n",
    "# ketika fi_intercept=false, makanilai konstanta = 0, sehingga ketika nilai seluruh feature=0 nilai target/y=0\n",
    "# penggunaan fit_intercept true atau false, tergantung dari independent variabel dan kasus bisnisnya"
   ]
  },
  {
   "cell_type": "code",
   "execution_count": 153,
   "id": "81799105",
   "metadata": {},
   "outputs": [
    {
     "data": {
      "text/plain": [
       "LinearRegression()"
      ]
     },
     "execution_count": 153,
     "metadata": {},
     "output_type": "execute_result"
    }
   ],
   "source": [
    "Model.fit(X_train,y_train)\n",
    "# Model belajar _> mencari pattern dari soal - jawaban (dari feature dan target) data training"
   ]
  },
  {
   "cell_type": "code",
   "execution_count": 154,
   "id": "2e1c176a",
   "metadata": {},
   "outputs": [],
   "source": [
    "### Quick Evaluation Matrix"
   ]
  },
  {
   "cell_type": "code",
   "execution_count": 155,
   "id": "ee7b89c4",
   "metadata": {},
   "outputs": [
    {
     "data": {
      "text/plain": [
       "0.6776018019730137"
      ]
     },
     "execution_count": 155,
     "metadata": {},
     "output_type": "execute_result"
    }
   ],
   "source": [
    "Model.score(X_train,y_train)\n",
    "# melakukan penilaian/evaluation matrix train set"
   ]
  },
  {
   "cell_type": "code",
   "execution_count": 156,
   "id": "508ae2c9",
   "metadata": {},
   "outputs": [
    {
     "data": {
      "text/plain": [
       "0.7310942798089236"
      ]
     },
     "execution_count": 156,
     "metadata": {},
     "output_type": "execute_result"
    }
   ],
   "source": [
    "Model.score(X_test,y_test)\n",
    "# melakukan penilaian/evaluation matrix test set"
   ]
  },
  {
   "cell_type": "code",
   "execution_count": 157,
   "id": "fff29e17",
   "metadata": {},
   "outputs": [
    {
     "data": {
      "text/plain": [
       "array([17.01153207, 26.50841936, 17.09359115, 22.61567583, 21.61007166,\n",
       "       18.76213483, 27.75396253, 21.24619275, 26.92133113, 22.12607425,\n",
       "       33.57183163, 18.89477269, 18.66634005, 38.15841417, 28.55584681,\n",
       "       37.62861631, 18.96555643, 38.47171108, 20.17829264, 23.26309445,\n",
       "       20.78193708, 21.05202929, 10.22364853, 20.22738595, 11.75647026,\n",
       "       22.39249958, 34.40047554, 14.19215691, 26.5729025 , 21.01799215,\n",
       "       35.35357397, 32.87625822, 33.17714203, 26.50315928, 27.28879072,\n",
       "       20.06963764,  8.02381289, 31.66600994, 31.42444017, 20.6314385 ,\n",
       "       41.24507787, 17.61734987,  7.60324901, 20.44040816, 23.90816464,\n",
       "       14.40908762, 28.00235247, 27.26346882, 20.14896144, 18.1940354 ,\n",
       "       39.18693623, 14.17307279, 15.35290264, 16.53956163, 39.24151399,\n",
       "       17.43901168, 42.32110807, 28.72416155, 34.29640657, 19.84536703,\n",
       "       14.53134883, 25.1112467 , 22.94258421, 17.47930129, 13.76389964,\n",
       "       15.91355782, 24.5203278 , 24.10836415, -2.91883805, 21.12299662,\n",
       "       17.51687292, 17.79455827, 35.0071799 , 20.33695554, 27.98452089,\n",
       "       17.64995975, 24.69762588, 18.30605842, 19.22306916, 15.94890815,\n",
       "       39.16106093, 15.08395484, 40.73392294, 14.6644525 , 22.28614613,\n",
       "       39.71778681, 33.42289478, 16.27481323, 15.46608619, 21.76459836,\n",
       "       24.53198409, 25.26965545, 20.75874618, 20.9669502 , 24.5595684 ,\n",
       "       22.72318237, 24.47327609, 17.3669444 , 16.68183382, 13.79889774,\n",
       "       26.16171814, 19.60865101, 20.47179232, 37.36247614, 24.2484363 ,\n",
       "       16.11580194, 16.37582228, 23.91800035, 26.74601746, 20.69413085,\n",
       "       24.38683834, 20.16395045, 18.00651421,  5.47488228, 11.73269   ,\n",
       "       11.95476689, 19.34178442, 21.75618708, 29.66520279,  9.01323095,\n",
       "       11.35679416, -2.48154271, 31.31084013, 10.14351158,  9.81238815,\n",
       "       24.11201538, 19.95666336, 10.63661436, 27.72321444, 21.04878793,\n",
       "       30.11842262, 19.77813324, 18.98139726, 27.10161991, 25.82738238,\n",
       "       18.19439244,  7.84130008, 25.23399463, 27.90691951, 31.21563767,\n",
       "       19.03053563, 20.59188998, 16.60064526, 17.90035917, 25.10295897,\n",
       "       16.95094829, 19.83076173, 36.18882476, 18.20025615, 20.80776893,\n",
       "       16.85901137, 21.63370118, 21.52957399, 31.43604029, 34.24958411,\n",
       "       31.88646169, 24.47285772, 20.24351171,  1.56924482, 10.82048211,\n",
       "       18.52721053, 25.23733963, 20.93273681, 19.17077394, 14.21207316,\n",
       "       19.41836688, 20.48725331, 20.83745235, 29.43483222, 28.39006082,\n",
       "       12.29983452, 20.72285019, 26.75906403,  4.12145758, 19.29823449,\n",
       "       28.21184399, 21.7059569 , 29.43127535, 28.75113907, 18.14553407,\n",
       "       25.4219721 , 38.87546337, 12.13164981, 18.23298483, 13.39753012,\n",
       "       17.87088762, 15.60464605, 20.15316973, 21.46737269, 22.44734645,\n",
       "       28.55192846, 23.55375981, 24.16403472, 25.04328017, 24.64121772,\n",
       "       32.4056012 , 16.27328065, 22.75476618, 21.31979605, 22.05053805,\n",
       "       25.83909859, 28.49379622, 32.60506689, 17.83053945, 23.13800957,\n",
       "       18.62800807, 10.8468352 , 26.99893626, 17.44232632, 13.3172054 ,\n",
       "       23.3878368 , 20.31204127, 23.8630284 , 28.73007871, 17.85684982,\n",
       "        5.19750728, 22.88090379, 25.03695622, 27.01627079, 14.6065811 ,\n",
       "       25.19529948, 21.68330546, 20.25598862, 29.93174851, 37.18398058,\n",
       "       15.1409287 , 35.430248  , 26.21965226, 21.82536211, 22.37865662,\n",
       "       17.9661592 , 19.45106022, 27.72702828, 30.48327541, 27.39329827,\n",
       "       32.96334524, 14.96456154, 20.92604912, 17.68495383, 25.85889316,\n",
       "       27.47921273, 30.16710073, 26.22996578, 23.35514009, 17.71655317,\n",
       "       39.17348889, 18.63925624, 24.4772872 , 21.39512584, 14.13542629,\n",
       "       19.30246794,  6.95321976, 22.97102641, 26.37470333, 31.23716806,\n",
       "       17.59357624, 31.55947966, 17.02506209, 32.27506601, 20.80241592,\n",
       "       22.80326734, 19.85707846, 27.34014238, 26.13417068, 33.21146382,\n",
       "       10.74621353, 20.75450364, 19.03966223, 10.23384795, 20.77016153,\n",
       "       12.16824427, 19.76011306, 24.60196033, 33.84668997, 21.90496307,\n",
       "       14.21872689, 28.24292425, 22.93038955, 30.46469331, 22.85024828,\n",
       "       20.69571671, 11.86403088, 24.86138203, 14.98999853, 25.07249415,\n",
       "       30.23850677, 15.91162873, 15.50743033, 21.44966474, 36.18969701,\n",
       "       23.56222672, 25.92787567, 29.28725215, 21.31288742, 22.58848946,\n",
       "       23.20656418, 20.34122704, 20.38968987, 19.27762917, 20.07571102,\n",
       "        3.29767962, 20.24412398, 15.73573582, 21.20759119, 25.85936583,\n",
       "       18.55119935, 30.30760359, 17.23167783, 31.92713921, 28.31169341,\n",
       "       27.39042615, 23.93459858, 12.0571721 , 22.43763864, 37.43177707,\n",
       "       18.84607107, 30.92021204, 10.87840455, 33.299189  , 21.17712289,\n",
       "       17.02816534,  6.30314224, 37.20115854, 24.66193785, 20.6793082 ,\n",
       "       22.95766075, 22.84128038, 16.37158616, 29.62999691, 20.04307262,\n",
       "        7.51122125, 24.69191199, 18.34254354,  4.35532155, 29.92123258,\n",
       "       22.93982684, 17.25749041, 16.83193981, 25.62382014, 22.9938591 ,\n",
       "       27.86574243, 34.45708391, 25.92570724, 19.50137676, 21.72482244,\n",
       "       27.27019688, 21.56404561, 27.70527036, 12.00808825, 24.57476514,\n",
       "       30.61484611, 33.00671127, 33.1373147 , 35.8597042 , 23.00794564,\n",
       "       23.97442967, 32.23532064, 21.31442478, 15.61478556, 32.03772827,\n",
       "       16.90580976, 28.25613014, 24.98017009, 21.4443827 , 24.27049159,\n",
       "       31.06337603, 23.67975289, 28.65195051, 28.09862427, 16.35197103,\n",
       "       22.47895495, 24.23634078, 16.93152992, 28.12274412, 34.24730034,\n",
       "       18.03008816, 22.58023964, 29.72043972, 30.60615847,  1.64252699,\n",
       "       27.72027826, 27.64669734, 38.28225873, 14.6621429 , 16.39444338,\n",
       "       27.93975474, 28.20313771, 15.17155637, 28.22083107, 18.09876928,\n",
       "       23.03805458, 18.81769231, 16.87021819, 12.99960092,  2.54966595,\n",
       "       26.41554697, 30.76122785, 27.73421606, 17.1769228 , 28.5437715 ,\n",
       "       17.4603517 , 18.83202152, 29.52272296, 31.10497503,  3.29015059,\n",
       "       28.58861479, 12.35277747, 25.37830462, 23.82038956, 18.40058363,\n",
       "       25.7959356 , 20.04669279, 25.86622607, 27.71390681, 25.34292628,\n",
       "       25.08173135, 19.30111332, 19.11487663, 28.74740045, 23.39188215,\n",
       "       18.699665  , 31.45320597, 15.57230615, 24.50070968, 23.25398454,\n",
       "        5.72977456, 33.98411954, 11.66375172, 24.53554262, 18.97641158])"
      ]
     },
     "execution_count": 157,
     "metadata": {},
     "output_type": "execute_result"
    }
   ],
   "source": [
    "Model.predict(X_train)\n",
    "# melakukan try out"
   ]
  },
  {
   "cell_type": "code",
   "execution_count": 158,
   "id": "9086f828",
   "metadata": {},
   "outputs": [
    {
     "data": {
      "text/plain": [
       "array([14.64879972, 26.91478487, 18.92973766, 13.61265461, 37.29609806,\n",
       "       24.88641332, 31.00049447, 18.71249421, 19.4807022 , 23.36631252,\n",
       "       29.50992401, 26.62193005, 16.16327417, 30.98938751, 21.73941224,\n",
       "       18.84868199, 25.02800332,  8.43278753, 11.30454784, 15.67066419,\n",
       "       11.26971567, 21.24863108, 18.91665201, 22.36996046, 22.32783439,\n",
       "       19.97281603, 14.21608527, 14.77815487, 21.7477489 , 15.92338864,\n",
       "       14.85572928, 27.12927619, 33.28527071, 19.84296873, 15.76820342,\n",
       "       18.1348934 , 30.66942701, 33.14200967, 26.01654683, 24.10320077,\n",
       "       36.37540789, 34.59225514, 19.63188961, 30.94446212, 29.04400634,\n",
       "       23.92743735, 38.31872729, 19.9271329 , 19.55535656, 23.65417239,\n",
       "       29.15924243, 28.39476277, 16.9013979 , 30.16431338, 15.97545982,\n",
       "       24.02470226, 24.48668206, 31.19305715, 16.19624136, 30.16504936,\n",
       "       17.46737827, 19.19098074, 30.90540204, 20.05164412, 37.59130856,\n",
       "       28.67350846, 27.90545149, 11.75151502, 18.98892162, 21.51472665,\n",
       "       20.90814934, 24.9923442 , 24.98581827, 28.722688  , 14.47576544,\n",
       "       28.99524505])"
      ]
     },
     "execution_count": 158,
     "metadata": {},
     "output_type": "execute_result"
    }
   ],
   "source": [
    "Model.predict(X_test)\n",
    "# menjawab ujian seusngguhnya"
   ]
  },
  {
   "cell_type": "code",
   "execution_count": 159,
   "id": "cea3fb10",
   "metadata": {},
   "outputs": [
    {
     "data": {
      "text/plain": [
       "22.868922510044005"
      ]
     },
     "execution_count": 159,
     "metadata": {},
     "output_type": "execute_result"
    }
   ],
   "source": [
    "Model.intercept_"
   ]
  },
  {
   "cell_type": "code",
   "execution_count": 160,
   "id": "a3be3635",
   "metadata": {},
   "outputs": [
    {
     "data": {
      "text/plain": [
       "array([-5.72359076e-02,  3.76821264e-02, -6.88269483e+00,  4.23962146e+00,\n",
       "        3.18890016e-02, -3.24319218e-04, -9.94870237e-01, -5.59217383e-01])"
      ]
     },
     "execution_count": 160,
     "metadata": {},
     "output_type": "execute_result"
    }
   ],
   "source": [
    "Model.coef_"
   ]
  },
  {
   "cell_type": "code",
   "execution_count": 161,
   "id": "cb46d433",
   "metadata": {},
   "outputs": [
    {
     "data": {
      "text/plain": [
       "Index(['CRIM', 'INDUS', 'NOX', 'RM', 'AGE', 'TAX', 'PTRATIO', 'LSTAT'], dtype='object')"
      ]
     },
     "execution_count": 161,
     "metadata": {},
     "output_type": "execute_result"
    }
   ],
   "source": [
    "X_train.columns"
   ]
  },
  {
   "cell_type": "code",
   "execution_count": 162,
   "id": "e3c6e9a3",
   "metadata": {},
   "outputs": [
    {
     "data": {
      "text/html": [
       "<div>\n",
       "<style scoped>\n",
       "    .dataframe tbody tr th:only-of-type {\n",
       "        vertical-align: middle;\n",
       "    }\n",
       "\n",
       "    .dataframe tbody tr th {\n",
       "        vertical-align: top;\n",
       "    }\n",
       "\n",
       "    .dataframe thead th {\n",
       "        text-align: right;\n",
       "    }\n",
       "</style>\n",
       "<table border=\"1\" class=\"dataframe\">\n",
       "  <thead>\n",
       "    <tr style=\"text-align: right;\">\n",
       "      <th></th>\n",
       "      <th>coef</th>\n",
       "    </tr>\n",
       "  </thead>\n",
       "  <tbody>\n",
       "    <tr>\n",
       "      <th>CRIM</th>\n",
       "      <td>-0.057236</td>\n",
       "    </tr>\n",
       "    <tr>\n",
       "      <th>INDUS</th>\n",
       "      <td>0.037682</td>\n",
       "    </tr>\n",
       "    <tr>\n",
       "      <th>NOX</th>\n",
       "      <td>-6.882695</td>\n",
       "    </tr>\n",
       "    <tr>\n",
       "      <th>RM</th>\n",
       "      <td>4.239621</td>\n",
       "    </tr>\n",
       "    <tr>\n",
       "      <th>AGE</th>\n",
       "      <td>0.031889</td>\n",
       "    </tr>\n",
       "    <tr>\n",
       "      <th>TAX</th>\n",
       "      <td>-0.000324</td>\n",
       "    </tr>\n",
       "    <tr>\n",
       "      <th>PTRATIO</th>\n",
       "      <td>-0.994870</td>\n",
       "    </tr>\n",
       "    <tr>\n",
       "      <th>LSTAT</th>\n",
       "      <td>-0.559217</td>\n",
       "    </tr>\n",
       "  </tbody>\n",
       "</table>\n",
       "</div>"
      ],
      "text/plain": [
       "             coef\n",
       "CRIM    -0.057236\n",
       "INDUS    0.037682\n",
       "NOX     -6.882695\n",
       "RM       4.239621\n",
       "AGE      0.031889\n",
       "TAX     -0.000324\n",
       "PTRATIO -0.994870\n",
       "LSTAT   -0.559217"
      ]
     },
     "execution_count": 162,
     "metadata": {},
     "output_type": "execute_result"
    }
   ],
   "source": [
    "pd.DataFrame(data = Model.coef_, index=X_train.columns,columns=['coef'])"
   ]
  },
  {
   "cell_type": "raw",
   "id": "bebe4bca",
   "metadata": {},
   "source": [
    "Y = ax + bx2 + cx3 + dx4 + ..... + z\n",
    "z = konstanta/intercept\n",
    "a,b,c,d .... -> koefisien\n",
    "x,x2,x3,x4, ... -> bilai variabel independent\n",
    "Harga prediksi = Y = z - aCRIM + bINDUS - cNOX + dRM + eAge - gPTRATIO - hLSTAT\n",
    "a,b,c,d,e,f,g,h -> koefisien\n",
    "menunjukan sebab-akibat"
   ]
  },
  {
   "cell_type": "code",
   "execution_count": 163,
   "id": "7a0ac54d",
   "metadata": {},
   "outputs": [
    {
     "data": {
      "text/html": [
       "<div>\n",
       "<style scoped>\n",
       "    .dataframe tbody tr th:only-of-type {\n",
       "        vertical-align: middle;\n",
       "    }\n",
       "\n",
       "    .dataframe tbody tr th {\n",
       "        vertical-align: top;\n",
       "    }\n",
       "\n",
       "    .dataframe thead th {\n",
       "        text-align: right;\n",
       "    }\n",
       "</style>\n",
       "<table border=\"1\" class=\"dataframe\">\n",
       "  <thead>\n",
       "    <tr style=\"text-align: right;\">\n",
       "      <th></th>\n",
       "      <th>CRIM</th>\n",
       "      <th>INDUS</th>\n",
       "      <th>NOX</th>\n",
       "      <th>RM</th>\n",
       "      <th>AGE</th>\n",
       "      <th>TAX</th>\n",
       "      <th>PTRATIO</th>\n",
       "      <th>LSTAT</th>\n",
       "    </tr>\n",
       "  </thead>\n",
       "  <tbody>\n",
       "    <tr>\n",
       "      <th>139</th>\n",
       "      <td>0.54452</td>\n",
       "      <td>21.89</td>\n",
       "      <td>0.624</td>\n",
       "      <td>6.151</td>\n",
       "      <td>97.9</td>\n",
       "      <td>437.0</td>\n",
       "      <td>21.2</td>\n",
       "      <td>18.46</td>\n",
       "    </tr>\n",
       "    <tr>\n",
       "      <th>314</th>\n",
       "      <td>0.36920</td>\n",
       "      <td>9.90</td>\n",
       "      <td>0.544</td>\n",
       "      <td>6.567</td>\n",
       "      <td>87.3</td>\n",
       "      <td>304.0</td>\n",
       "      <td>18.4</td>\n",
       "      <td>9.28</td>\n",
       "    </tr>\n",
       "    <tr>\n",
       "      <th>427</th>\n",
       "      <td>37.66190</td>\n",
       "      <td>18.10</td>\n",
       "      <td>0.679</td>\n",
       "      <td>6.202</td>\n",
       "      <td>78.7</td>\n",
       "      <td>666.0</td>\n",
       "      <td>20.2</td>\n",
       "      <td>14.52</td>\n",
       "    </tr>\n",
       "    <tr>\n",
       "      <th>102</th>\n",
       "      <td>0.22876</td>\n",
       "      <td>8.56</td>\n",
       "      <td>0.520</td>\n",
       "      <td>6.405</td>\n",
       "      <td>85.4</td>\n",
       "      <td>384.0</td>\n",
       "      <td>20.9</td>\n",
       "      <td>10.63</td>\n",
       "    </tr>\n",
       "    <tr>\n",
       "      <th>45</th>\n",
       "      <td>0.17142</td>\n",
       "      <td>6.91</td>\n",
       "      <td>0.448</td>\n",
       "      <td>5.682</td>\n",
       "      <td>33.8</td>\n",
       "      <td>233.0</td>\n",
       "      <td>17.9</td>\n",
       "      <td>10.21</td>\n",
       "    </tr>\n",
       "  </tbody>\n",
       "</table>\n",
       "</div>"
      ],
      "text/plain": [
       "         CRIM  INDUS    NOX     RM   AGE    TAX  PTRATIO  LSTAT\n",
       "139   0.54452  21.89  0.624  6.151  97.9  437.0     21.2  18.46\n",
       "314   0.36920   9.90  0.544  6.567  87.3  304.0     18.4   9.28\n",
       "427  37.66190  18.10  0.679  6.202  78.7  666.0     20.2  14.52\n",
       "102   0.22876   8.56  0.520  6.405  85.4  384.0     20.9  10.63\n",
       "45    0.17142   6.91  0.448  5.682  33.8  233.0     17.9  10.21"
      ]
     },
     "execution_count": 163,
     "metadata": {},
     "output_type": "execute_result"
    }
   ],
   "source": [
    "X_train.head()"
   ]
  },
  {
   "cell_type": "code",
   "execution_count": 164,
   "id": "daac7593",
   "metadata": {},
   "outputs": [
    {
     "data": {
      "text/plain": [
       "array([26.48086826])"
      ]
     },
     "execution_count": 164,
     "metadata": {},
     "output_type": "execute_result"
    }
   ],
   "source": [
    "Model.predict([[0.02,21.56,0.75,7.56,21,250,18.20,11.75]])\n",
    "# memprediksi data baru\n",
    "# data yg tidak ada di dataset"
   ]
  },
  {
   "cell_type": "code",
   "execution_count": 165,
   "id": "45216179",
   "metadata": {},
   "outputs": [
    {
     "data": {
      "text/plain": [
       "22.868922510044005"
      ]
     },
     "execution_count": 165,
     "metadata": {},
     "output_type": "execute_result"
    }
   ],
   "source": [
    "Model.intercept_\n",
    "# harga default -> harga ketika semua nilai variabelnya 0"
   ]
  },
  {
   "cell_type": "code",
   "execution_count": 166,
   "id": "35683622",
   "metadata": {},
   "outputs": [
    {
     "data": {
      "text/plain": [
       "array([22.86892251])"
      ]
     },
     "execution_count": 166,
     "metadata": {},
     "output_type": "execute_result"
    }
   ],
   "source": [
    "Model.predict([[0,0,0,0,0,0,0,0]])"
   ]
  },
  {
   "cell_type": "raw",
   "id": "62916a95",
   "metadata": {},
   "source": [
    "## Evaluation matrix\n",
    "- membandingkan kunci jawaban/data target aktual(data target yg ada di dataset) dengan jawaban model atau jawaban prediksi model\n",
    "y_true --> data target aktual(bisa dari y_train atau y_test) tergantung evaluation matrix mana yang akan \n",
    "y_pred --> data target prediksi (didapat dari model menjawab soal/prediksi dari X_train maupun X_test)"
   ]
  },
  {
   "cell_type": "code",
   "execution_count": 167,
   "id": "8eed714e",
   "metadata": {},
   "outputs": [],
   "source": [
    "pred_train = Model.predict(X_train)"
   ]
  },
  {
   "cell_type": "code",
   "execution_count": 168,
   "id": "3f226623",
   "metadata": {},
   "outputs": [
    {
     "data": {
      "image/png": "[encoded data removed]",
      "text/plain": [
       "<Figure size 432x288 with 1 Axes>"
      ]
     },
     "metadata": {
      "needs_background": "light"
     },
     "output_type": "display_data"
    }
   ],
   "source": [
    "plt.scatter(y_train, pred_train, s=20)\n",
    "plt.xlabel(\"Data Aktual\")\n",
    "plt.ylabel(\"Data Prediksi\")\n",
    "plt.show()\n",
    "# s=20 menunjukan size "
   ]
  },
  {
   "cell_type": "code",
   "execution_count": 169,
   "id": "c8aac8e8",
   "metadata": {},
   "outputs": [],
   "source": [
    "pred_test = Model.predict(X_test)"
   ]
  },
  {
   "cell_type": "code",
   "execution_count": 170,
   "id": "3e8682ea",
   "metadata": {},
   "outputs": [
    {
     "data": {
      "image/png": "[encoded data removed]",
      "text/plain": [
       "<Figure size 432x288 with 1 Axes>"
      ]
     },
     "metadata": {
      "needs_background": "light"
     },
     "output_type": "display_data"
    }
   ],
   "source": [
    "plt.scatter(y_test, pred_test, s=20)\n",
    "plt.xlabel(\"Data Aktual\")\n",
    "plt.ylabel(\"Data Prediksi\")\n",
    "plt.show()"
   ]
  },
  {
   "cell_type": "code",
   "execution_count": 171,
   "id": "c19583d1",
   "metadata": {},
   "outputs": [
    {
     "data": {
      "text/html": [
       "<div>\n",
       "<style scoped>\n",
       "    .dataframe tbody tr th:only-of-type {\n",
       "        vertical-align: middle;\n",
       "    }\n",
       "\n",
       "    .dataframe tbody tr th {\n",
       "        vertical-align: top;\n",
       "    }\n",
       "\n",
       "    .dataframe thead th {\n",
       "        text-align: right;\n",
       "    }\n",
       "</style>\n",
       "<table border=\"1\" class=\"dataframe\">\n",
       "  <thead>\n",
       "    <tr style=\"text-align: right;\">\n",
       "      <th></th>\n",
       "      <th>CRIM</th>\n",
       "      <th>INDUS</th>\n",
       "      <th>NOX</th>\n",
       "      <th>RM</th>\n",
       "      <th>AGE</th>\n",
       "      <th>TAX</th>\n",
       "      <th>PTRATIO</th>\n",
       "      <th>LSTAT</th>\n",
       "      <th>Price</th>\n",
       "    </tr>\n",
       "  </thead>\n",
       "  <tbody>\n",
       "    <tr>\n",
       "      <th>139</th>\n",
       "      <td>0.54452</td>\n",
       "      <td>21.89</td>\n",
       "      <td>0.624</td>\n",
       "      <td>6.151</td>\n",
       "      <td>97.9</td>\n",
       "      <td>437.0</td>\n",
       "      <td>21.2</td>\n",
       "      <td>18.46</td>\n",
       "      <td>17.8</td>\n",
       "    </tr>\n",
       "    <tr>\n",
       "      <th>314</th>\n",
       "      <td>0.36920</td>\n",
       "      <td>9.90</td>\n",
       "      <td>0.544</td>\n",
       "      <td>6.567</td>\n",
       "      <td>87.3</td>\n",
       "      <td>304.0</td>\n",
       "      <td>18.4</td>\n",
       "      <td>9.28</td>\n",
       "      <td>23.8</td>\n",
       "    </tr>\n",
       "    <tr>\n",
       "      <th>427</th>\n",
       "      <td>37.66190</td>\n",
       "      <td>18.10</td>\n",
       "      <td>0.679</td>\n",
       "      <td>6.202</td>\n",
       "      <td>78.7</td>\n",
       "      <td>666.0</td>\n",
       "      <td>20.2</td>\n",
       "      <td>14.52</td>\n",
       "      <td>10.9</td>\n",
       "    </tr>\n",
       "    <tr>\n",
       "      <th>102</th>\n",
       "      <td>0.22876</td>\n",
       "      <td>8.56</td>\n",
       "      <td>0.520</td>\n",
       "      <td>6.405</td>\n",
       "      <td>85.4</td>\n",
       "      <td>384.0</td>\n",
       "      <td>20.9</td>\n",
       "      <td>10.63</td>\n",
       "      <td>18.6</td>\n",
       "    </tr>\n",
       "    <tr>\n",
       "      <th>45</th>\n",
       "      <td>0.17142</td>\n",
       "      <td>6.91</td>\n",
       "      <td>0.448</td>\n",
       "      <td>5.682</td>\n",
       "      <td>33.8</td>\n",
       "      <td>233.0</td>\n",
       "      <td>17.9</td>\n",
       "      <td>10.21</td>\n",
       "      <td>19.3</td>\n",
       "    </tr>\n",
       "    <tr>\n",
       "      <th>...</th>\n",
       "      <td>...</td>\n",
       "      <td>...</td>\n",
       "      <td>...</td>\n",
       "      <td>...</td>\n",
       "      <td>...</td>\n",
       "      <td>...</td>\n",
       "      <td>...</td>\n",
       "      <td>...</td>\n",
       "      <td>...</td>\n",
       "    </tr>\n",
       "    <tr>\n",
       "      <th>385</th>\n",
       "      <td>16.81180</td>\n",
       "      <td>18.10</td>\n",
       "      <td>0.700</td>\n",
       "      <td>5.277</td>\n",
       "      <td>98.1</td>\n",
       "      <td>666.0</td>\n",
       "      <td>20.2</td>\n",
       "      <td>30.81</td>\n",
       "      <td>7.2</td>\n",
       "    </tr>\n",
       "    <tr>\n",
       "      <th>197</th>\n",
       "      <td>0.04666</td>\n",
       "      <td>1.52</td>\n",
       "      <td>0.404</td>\n",
       "      <td>7.107</td>\n",
       "      <td>36.6</td>\n",
       "      <td>329.0</td>\n",
       "      <td>12.6</td>\n",
       "      <td>8.61</td>\n",
       "      <td>30.3</td>\n",
       "    </tr>\n",
       "    <tr>\n",
       "      <th>439</th>\n",
       "      <td>9.39063</td>\n",
       "      <td>18.10</td>\n",
       "      <td>0.740</td>\n",
       "      <td>5.627</td>\n",
       "      <td>93.9</td>\n",
       "      <td>666.0</td>\n",
       "      <td>20.2</td>\n",
       "      <td>22.88</td>\n",
       "      <td>12.8</td>\n",
       "    </tr>\n",
       "    <tr>\n",
       "      <th>174</th>\n",
       "      <td>0.08447</td>\n",
       "      <td>4.05</td>\n",
       "      <td>0.510</td>\n",
       "      <td>5.859</td>\n",
       "      <td>68.7</td>\n",
       "      <td>296.0</td>\n",
       "      <td>16.6</td>\n",
       "      <td>9.64</td>\n",
       "      <td>22.6</td>\n",
       "    </tr>\n",
       "    <tr>\n",
       "      <th>122</th>\n",
       "      <td>0.09299</td>\n",
       "      <td>25.65</td>\n",
       "      <td>0.581</td>\n",
       "      <td>5.961</td>\n",
       "      <td>92.9</td>\n",
       "      <td>188.0</td>\n",
       "      <td>19.1</td>\n",
       "      <td>17.93</td>\n",
       "      <td>20.5</td>\n",
       "    </tr>\n",
       "  </tbody>\n",
       "</table>\n",
       "<p>430 rows × 9 columns</p>\n",
       "</div>"
      ],
      "text/plain": [
       "         CRIM  INDUS    NOX     RM   AGE    TAX  PTRATIO  LSTAT  Price\n",
       "139   0.54452  21.89  0.624  6.151  97.9  437.0     21.2  18.46   17.8\n",
       "314   0.36920   9.90  0.544  6.567  87.3  304.0     18.4   9.28   23.8\n",
       "427  37.66190  18.10  0.679  6.202  78.7  666.0     20.2  14.52   10.9\n",
       "102   0.22876   8.56  0.520  6.405  85.4  384.0     20.9  10.63   18.6\n",
       "45    0.17142   6.91  0.448  5.682  33.8  233.0     17.9  10.21   19.3\n",
       "..        ...    ...    ...    ...   ...    ...      ...    ...    ...\n",
       "385  16.81180  18.10  0.700  5.277  98.1  666.0     20.2  30.81    7.2\n",
       "197   0.04666   1.52  0.404  7.107  36.6  329.0     12.6   8.61   30.3\n",
       "439   9.39063  18.10  0.740  5.627  93.9  666.0     20.2  22.88   12.8\n",
       "174   0.08447   4.05  0.510  5.859  68.7  296.0     16.6   9.64   22.6\n",
       "122   0.09299  25.65  0.581  5.961  92.9  188.0     19.1  17.93   20.5\n",
       "\n",
       "[430 rows x 9 columns]"
      ]
     },
     "execution_count": 171,
     "metadata": {},
     "output_type": "execute_result"
    }
   ],
   "source": [
    "pd.concat([X_train, y_train],axis=1)"
   ]
  },
  {
   "cell_type": "markdown",
   "id": "2f433975",
   "metadata": {},
   "source": [
    "# Analisa error training set"
   ]
  },
  {
   "cell_type": "code",
   "execution_count": 173,
   "id": "f12d226a",
   "metadata": {},
   "outputs": [],
   "source": [
    "Training_set = pd.concat([X_train, y_train],axis=1)"
   ]
  },
  {
   "cell_type": "code",
   "execution_count": 174,
   "id": "656ea854",
   "metadata": {},
   "outputs": [],
   "source": [
    "Testing_set = pd.concat([X_train, y_train],axis=1)"
   ]
  },
  {
   "cell_type": "code",
   "execution_count": 175,
   "id": "35f04889",
   "metadata": {},
   "outputs": [
    {
     "data": {
      "text/html": [
       "<div>\n",
       "<style scoped>\n",
       "    .dataframe tbody tr th:only-of-type {\n",
       "        vertical-align: middle;\n",
       "    }\n",
       "\n",
       "    .dataframe tbody tr th {\n",
       "        vertical-align: top;\n",
       "    }\n",
       "\n",
       "    .dataframe thead th {\n",
       "        text-align: right;\n",
       "    }\n",
       "</style>\n",
       "<table border=\"1\" class=\"dataframe\">\n",
       "  <thead>\n",
       "    <tr style=\"text-align: right;\">\n",
       "      <th></th>\n",
       "      <th>CRIM</th>\n",
       "      <th>INDUS</th>\n",
       "      <th>NOX</th>\n",
       "      <th>RM</th>\n",
       "      <th>AGE</th>\n",
       "      <th>TAX</th>\n",
       "      <th>PTRATIO</th>\n",
       "      <th>LSTAT</th>\n",
       "      <th>Price</th>\n",
       "      <th>price_pred</th>\n",
       "    </tr>\n",
       "  </thead>\n",
       "  <tbody>\n",
       "    <tr>\n",
       "      <th>139</th>\n",
       "      <td>0.54452</td>\n",
       "      <td>21.89</td>\n",
       "      <td>0.624</td>\n",
       "      <td>6.151</td>\n",
       "      <td>97.9</td>\n",
       "      <td>437.0</td>\n",
       "      <td>21.2</td>\n",
       "      <td>18.46</td>\n",
       "      <td>17.8</td>\n",
       "      <td>17.011532</td>\n",
       "    </tr>\n",
       "    <tr>\n",
       "      <th>314</th>\n",
       "      <td>0.36920</td>\n",
       "      <td>9.90</td>\n",
       "      <td>0.544</td>\n",
       "      <td>6.567</td>\n",
       "      <td>87.3</td>\n",
       "      <td>304.0</td>\n",
       "      <td>18.4</td>\n",
       "      <td>9.28</td>\n",
       "      <td>23.8</td>\n",
       "      <td>26.508419</td>\n",
       "    </tr>\n",
       "    <tr>\n",
       "      <th>427</th>\n",
       "      <td>37.66190</td>\n",
       "      <td>18.10</td>\n",
       "      <td>0.679</td>\n",
       "      <td>6.202</td>\n",
       "      <td>78.7</td>\n",
       "      <td>666.0</td>\n",
       "      <td>20.2</td>\n",
       "      <td>14.52</td>\n",
       "      <td>10.9</td>\n",
       "      <td>17.093591</td>\n",
       "    </tr>\n",
       "    <tr>\n",
       "      <th>102</th>\n",
       "      <td>0.22876</td>\n",
       "      <td>8.56</td>\n",
       "      <td>0.520</td>\n",
       "      <td>6.405</td>\n",
       "      <td>85.4</td>\n",
       "      <td>384.0</td>\n",
       "      <td>20.9</td>\n",
       "      <td>10.63</td>\n",
       "      <td>18.6</td>\n",
       "      <td>22.615676</td>\n",
       "    </tr>\n",
       "    <tr>\n",
       "      <th>45</th>\n",
       "      <td>0.17142</td>\n",
       "      <td>6.91</td>\n",
       "      <td>0.448</td>\n",
       "      <td>5.682</td>\n",
       "      <td>33.8</td>\n",
       "      <td>233.0</td>\n",
       "      <td>17.9</td>\n",
       "      <td>10.21</td>\n",
       "      <td>19.3</td>\n",
       "      <td>21.610072</td>\n",
       "    </tr>\n",
       "    <tr>\n",
       "      <th>...</th>\n",
       "      <td>...</td>\n",
       "      <td>...</td>\n",
       "      <td>...</td>\n",
       "      <td>...</td>\n",
       "      <td>...</td>\n",
       "      <td>...</td>\n",
       "      <td>...</td>\n",
       "      <td>...</td>\n",
       "      <td>...</td>\n",
       "      <td>...</td>\n",
       "    </tr>\n",
       "    <tr>\n",
       "      <th>385</th>\n",
       "      <td>16.81180</td>\n",
       "      <td>18.10</td>\n",
       "      <td>0.700</td>\n",
       "      <td>5.277</td>\n",
       "      <td>98.1</td>\n",
       "      <td>666.0</td>\n",
       "      <td>20.2</td>\n",
       "      <td>30.81</td>\n",
       "      <td>7.2</td>\n",
       "      <td>5.729775</td>\n",
       "    </tr>\n",
       "    <tr>\n",
       "      <th>197</th>\n",
       "      <td>0.04666</td>\n",
       "      <td>1.52</td>\n",
       "      <td>0.404</td>\n",
       "      <td>7.107</td>\n",
       "      <td>36.6</td>\n",
       "      <td>329.0</td>\n",
       "      <td>12.6</td>\n",
       "      <td>8.61</td>\n",
       "      <td>30.3</td>\n",
       "      <td>33.984120</td>\n",
       "    </tr>\n",
       "    <tr>\n",
       "      <th>439</th>\n",
       "      <td>9.39063</td>\n",
       "      <td>18.10</td>\n",
       "      <td>0.740</td>\n",
       "      <td>5.627</td>\n",
       "      <td>93.9</td>\n",
       "      <td>666.0</td>\n",
       "      <td>20.2</td>\n",
       "      <td>22.88</td>\n",
       "      <td>12.8</td>\n",
       "      <td>11.663752</td>\n",
       "    </tr>\n",
       "    <tr>\n",
       "      <th>174</th>\n",
       "      <td>0.08447</td>\n",
       "      <td>4.05</td>\n",
       "      <td>0.510</td>\n",
       "      <td>5.859</td>\n",
       "      <td>68.7</td>\n",
       "      <td>296.0</td>\n",
       "      <td>16.6</td>\n",
       "      <td>9.64</td>\n",
       "      <td>22.6</td>\n",
       "      <td>24.535543</td>\n",
       "    </tr>\n",
       "    <tr>\n",
       "      <th>122</th>\n",
       "      <td>0.09299</td>\n",
       "      <td>25.65</td>\n",
       "      <td>0.581</td>\n",
       "      <td>5.961</td>\n",
       "      <td>92.9</td>\n",
       "      <td>188.0</td>\n",
       "      <td>19.1</td>\n",
       "      <td>17.93</td>\n",
       "      <td>20.5</td>\n",
       "      <td>18.976412</td>\n",
       "    </tr>\n",
       "  </tbody>\n",
       "</table>\n",
       "<p>430 rows × 10 columns</p>\n",
       "</div>"
      ],
      "text/plain": [
       "         CRIM  INDUS    NOX     RM   AGE    TAX  PTRATIO  LSTAT  Price  \\\n",
       "139   0.54452  21.89  0.624  6.151  97.9  437.0     21.2  18.46   17.8   \n",
       "314   0.36920   9.90  0.544  6.567  87.3  304.0     18.4   9.28   23.8   \n",
       "427  37.66190  18.10  0.679  6.202  78.7  666.0     20.2  14.52   10.9   \n",
       "102   0.22876   8.56  0.520  6.405  85.4  384.0     20.9  10.63   18.6   \n",
       "45    0.17142   6.91  0.448  5.682  33.8  233.0     17.9  10.21   19.3   \n",
       "..        ...    ...    ...    ...   ...    ...      ...    ...    ...   \n",
       "385  16.81180  18.10  0.700  5.277  98.1  666.0     20.2  30.81    7.2   \n",
       "197   0.04666   1.52  0.404  7.107  36.6  329.0     12.6   8.61   30.3   \n",
       "439   9.39063  18.10  0.740  5.627  93.9  666.0     20.2  22.88   12.8   \n",
       "174   0.08447   4.05  0.510  5.859  68.7  296.0     16.6   9.64   22.6   \n",
       "122   0.09299  25.65  0.581  5.961  92.9  188.0     19.1  17.93   20.5   \n",
       "\n",
       "     price_pred  \n",
       "139   17.011532  \n",
       "314   26.508419  \n",
       "427   17.093591  \n",
       "102   22.615676  \n",
       "45    21.610072  \n",
       "..          ...  \n",
       "385    5.729775  \n",
       "197   33.984120  \n",
       "439   11.663752  \n",
       "174   24.535543  \n",
       "122   18.976412  \n",
       "\n",
       "[430 rows x 10 columns]"
      ]
     },
     "execution_count": 175,
     "metadata": {},
     "output_type": "execute_result"
    }
   ],
   "source": [
    "Training_set['price_pred'] = pred_train\n",
    "Training_set"
   ]
  },
  {
   "cell_type": "code",
   "execution_count": 176,
   "id": "3310ffba",
   "metadata": {},
   "outputs": [],
   "source": [
    "Training_set['Error'] = abs(Training_set['Price'] -Training_set['price_pred']) "
   ]
  },
  {
   "cell_type": "code",
   "execution_count": 177,
   "id": "88989101",
   "metadata": {},
   "outputs": [
    {
     "data": {
      "image/png": "[encoded data removed]",
      "text/plain": [
       "<Figure size 432x288 with 1 Axes>"
      ]
     },
     "metadata": {
      "needs_background": "light"
     },
     "output_type": "display_data"
    }
   ],
   "source": [
    "plt.scatter(Training_set['Price'], Training_set['Error'], s=30)\n",
    "plt.xlabel(\"Data Aktual\")\n",
    "plt.ylabel(\"Error\")\n",
    "plt.show()"
   ]
  },
  {
   "cell_type": "markdown",
   "id": "75e6e20c",
   "metadata": {},
   "source": [
    "Distribusi Error\n",
    "- Model yg bagus memiliki error yg terdistribusi normal\n",
    "- Memiliki rata-rata error 0"
   ]
  },
  {
   "cell_type": "code",
   "execution_count": 178,
   "id": "c92fa814",
   "metadata": {},
   "outputs": [
    {
     "data": {
      "image/png": "[encoded data removed]",
      "text/plain": [
       "<Figure size 432x288 with 1 Axes>"
      ]
     },
     "metadata": {
      "needs_background": "light"
     },
     "output_type": "display_data"
    }
   ],
   "source": [
    "sns.distplot(Training_set['Error'])\n",
    "plt.show()"
   ]
  },
  {
   "cell_type": "code",
   "execution_count": 179,
   "id": "cd260c80",
   "metadata": {},
   "outputs": [
    {
     "data": {
      "text/plain": [
       "3.646213654939845"
      ]
     },
     "execution_count": 179,
     "metadata": {},
     "output_type": "execute_result"
    }
   ],
   "source": [
    "Training_set['Error'].mean()"
   ]
  },
  {
   "cell_type": "code",
   "execution_count": 180,
   "id": "c88736ee",
   "metadata": {},
   "outputs": [
    {
     "data": {
      "text/html": [
       "<div>\n",
       "<style scoped>\n",
       "    .dataframe tbody tr th:only-of-type {\n",
       "        vertical-align: middle;\n",
       "    }\n",
       "\n",
       "    .dataframe tbody tr th {\n",
       "        vertical-align: top;\n",
       "    }\n",
       "\n",
       "    .dataframe thead th {\n",
       "        text-align: right;\n",
       "    }\n",
       "</style>\n",
       "<table border=\"1\" class=\"dataframe\">\n",
       "  <thead>\n",
       "    <tr style=\"text-align: right;\">\n",
       "      <th></th>\n",
       "      <th>CRIM</th>\n",
       "      <th>INDUS</th>\n",
       "      <th>NOX</th>\n",
       "      <th>RM</th>\n",
       "      <th>AGE</th>\n",
       "      <th>TAX</th>\n",
       "      <th>PTRATIO</th>\n",
       "      <th>LSTAT</th>\n",
       "      <th>Price</th>\n",
       "      <th>price_pred</th>\n",
       "      <th>Error</th>\n",
       "    </tr>\n",
       "  </thead>\n",
       "  <tbody>\n",
       "    <tr>\n",
       "      <th>372</th>\n",
       "      <td>8.26725</td>\n",
       "      <td>18.10</td>\n",
       "      <td>0.668</td>\n",
       "      <td>5.875</td>\n",
       "      <td>89.6</td>\n",
       "      <td>666.0</td>\n",
       "      <td>20.2</td>\n",
       "      <td>8.88</td>\n",
       "      <td>50.0</td>\n",
       "      <td>20.966950</td>\n",
       "      <td>29.033050</td>\n",
       "    </tr>\n",
       "    <tr>\n",
       "      <th>368</th>\n",
       "      <td>4.89822</td>\n",
       "      <td>18.10</td>\n",
       "      <td>0.631</td>\n",
       "      <td>4.970</td>\n",
       "      <td>100.0</td>\n",
       "      <td>666.0</td>\n",
       "      <td>20.2</td>\n",
       "      <td>3.26</td>\n",
       "      <td>50.0</td>\n",
       "      <td>21.052029</td>\n",
       "      <td>28.947971</td>\n",
       "    </tr>\n",
       "    <tr>\n",
       "      <th>371</th>\n",
       "      <td>9.23230</td>\n",
       "      <td>18.10</td>\n",
       "      <td>0.631</td>\n",
       "      <td>6.216</td>\n",
       "      <td>100.0</td>\n",
       "      <td>666.0</td>\n",
       "      <td>20.2</td>\n",
       "      <td>9.53</td>\n",
       "      <td>50.0</td>\n",
       "      <td>22.580240</td>\n",
       "      <td>27.419760</td>\n",
       "    </tr>\n",
       "    <tr>\n",
       "      <th>370</th>\n",
       "      <td>6.53876</td>\n",
       "      <td>18.10</td>\n",
       "      <td>0.631</td>\n",
       "      <td>7.016</td>\n",
       "      <td>97.5</td>\n",
       "      <td>666.0</td>\n",
       "      <td>20.2</td>\n",
       "      <td>2.96</td>\n",
       "      <td>50.0</td>\n",
       "      <td>29.720440</td>\n",
       "      <td>20.279560</td>\n",
       "    </tr>\n",
       "    <tr>\n",
       "      <th>374</th>\n",
       "      <td>18.49820</td>\n",
       "      <td>18.10</td>\n",
       "      <td>0.668</td>\n",
       "      <td>4.138</td>\n",
       "      <td>100.0</td>\n",
       "      <td>666.0</td>\n",
       "      <td>20.2</td>\n",
       "      <td>37.97</td>\n",
       "      <td>13.8</td>\n",
       "      <td>-2.918838</td>\n",
       "      <td>16.718838</td>\n",
       "    </tr>\n",
       "    <tr>\n",
       "      <th>412</th>\n",
       "      <td>18.81100</td>\n",
       "      <td>18.10</td>\n",
       "      <td>0.597</td>\n",
       "      <td>4.628</td>\n",
       "      <td>100.0</td>\n",
       "      <td>666.0</td>\n",
       "      <td>20.2</td>\n",
       "      <td>34.37</td>\n",
       "      <td>17.9</td>\n",
       "      <td>1.642527</td>\n",
       "      <td>16.257473</td>\n",
       "    </tr>\n",
       "    <tr>\n",
       "      <th>186</th>\n",
       "      <td>0.05602</td>\n",
       "      <td>2.46</td>\n",
       "      <td>0.488</td>\n",
       "      <td>7.831</td>\n",
       "      <td>53.6</td>\n",
       "      <td>193.0</td>\n",
       "      <td>17.8</td>\n",
       "      <td>4.45</td>\n",
       "      <td>50.0</td>\n",
       "      <td>34.249584</td>\n",
       "      <td>15.750416</td>\n",
       "    </tr>\n",
       "    <tr>\n",
       "      <th>214</th>\n",
       "      <td>0.28955</td>\n",
       "      <td>10.59</td>\n",
       "      <td>0.489</td>\n",
       "      <td>5.412</td>\n",
       "      <td>9.8</td>\n",
       "      <td>277.0</td>\n",
       "      <td>18.6</td>\n",
       "      <td>29.55</td>\n",
       "      <td>23.7</td>\n",
       "      <td>8.023813</td>\n",
       "      <td>15.676187</td>\n",
       "    </tr>\n",
       "    <tr>\n",
       "      <th>365</th>\n",
       "      <td>4.55587</td>\n",
       "      <td>18.10</td>\n",
       "      <td>0.718</td>\n",
       "      <td>3.561</td>\n",
       "      <td>87.9</td>\n",
       "      <td>666.0</td>\n",
       "      <td>20.2</td>\n",
       "      <td>7.12</td>\n",
       "      <td>27.5</td>\n",
       "      <td>11.954767</td>\n",
       "      <td>15.545233</td>\n",
       "    </tr>\n",
       "    <tr>\n",
       "      <th>364</th>\n",
       "      <td>3.47428</td>\n",
       "      <td>18.10</td>\n",
       "      <td>0.718</td>\n",
       "      <td>8.780</td>\n",
       "      <td>82.9</td>\n",
       "      <td>666.0</td>\n",
       "      <td>20.2</td>\n",
       "      <td>5.29</td>\n",
       "      <td>21.9</td>\n",
       "      <td>35.007180</td>\n",
       "      <td>13.107180</td>\n",
       "    </tr>\n",
       "  </tbody>\n",
       "</table>\n",
       "</div>"
      ],
      "text/plain": [
       "         CRIM  INDUS    NOX     RM    AGE    TAX  PTRATIO  LSTAT  Price  \\\n",
       "372   8.26725  18.10  0.668  5.875   89.6  666.0     20.2   8.88   50.0   \n",
       "368   4.89822  18.10  0.631  4.970  100.0  666.0     20.2   3.26   50.0   \n",
       "371   9.23230  18.10  0.631  6.216  100.0  666.0     20.2   9.53   50.0   \n",
       "370   6.53876  18.10  0.631  7.016   97.5  666.0     20.2   2.96   50.0   \n",
       "374  18.49820  18.10  0.668  4.138  100.0  666.0     20.2  37.97   13.8   \n",
       "412  18.81100  18.10  0.597  4.628  100.0  666.0     20.2  34.37   17.9   \n",
       "186   0.05602   2.46  0.488  7.831   53.6  193.0     17.8   4.45   50.0   \n",
       "214   0.28955  10.59  0.489  5.412    9.8  277.0     18.6  29.55   23.7   \n",
       "365   4.55587  18.10  0.718  3.561   87.9  666.0     20.2   7.12   27.5   \n",
       "364   3.47428  18.10  0.718  8.780   82.9  666.0     20.2   5.29   21.9   \n",
       "\n",
       "     price_pred      Error  \n",
       "372   20.966950  29.033050  \n",
       "368   21.052029  28.947971  \n",
       "371   22.580240  27.419760  \n",
       "370   29.720440  20.279560  \n",
       "374   -2.918838  16.718838  \n",
       "412    1.642527  16.257473  \n",
       "186   34.249584  15.750416  \n",
       "214    8.023813  15.676187  \n",
       "365   11.954767  15.545233  \n",
       "364   35.007180  13.107180  "
      ]
     },
     "execution_count": 180,
     "metadata": {},
     "output_type": "execute_result"
    }
   ],
   "source": [
    "Training_set.sort_values('Error', ascending=False).head(10)\n",
    "# 10 data training dengan error tertinggi\n",
    "# Analisa data :\n",
    "# -> error tinggi kebanyakan untuk TAX dg nilai \n",
    "# -> kita drop TAX yg nilainya 666dan PTRATIO dg nilai 20.2\n",
    "# proses diatas disebut projek limitation"
   ]
  },
  {
   "cell_type": "raw",
   "id": "1dda2f95",
   "metadata": {},
   "source": [
    "### Improvement Model ML versi 1\n",
    "- Membuat project limitation (feature engineering)"
   ]
  },
  {
   "cell_type": "code",
   "execution_count": 181,
   "id": "5105bf6b",
   "metadata": {},
   "outputs": [],
   "source": [
    "df = df[df['TAX'] != 666]\n",
    "# drop TAX = 666"
   ]
  },
  {
   "cell_type": "code",
   "execution_count": 182,
   "id": "e768e37f",
   "metadata": {},
   "outputs": [],
   "source": [
    "df = df[df['PTRATIO'] != 20.2]\n",
    "# drop PTRATIO = 20.2"
   ]
  },
  {
   "cell_type": "code",
   "execution_count": 183,
   "id": "14f97b90",
   "metadata": {},
   "outputs": [],
   "source": [
    "### Evolution Matrix for regression"
   ]
  },
  {
   "cell_type": "code",
   "execution_count": 184,
   "id": "5af53a90",
   "metadata": {},
   "outputs": [],
   "source": [
    "error_train = abs(y_train - pred_train)"
   ]
  },
  {
   "cell_type": "code",
   "execution_count": 185,
   "id": "e658006f",
   "metadata": {},
   "outputs": [],
   "source": [
    "error_test = abs(y_test - pred_test)"
   ]
  },
  {
   "cell_type": "markdown",
   "id": "3ab14943",
   "metadata": {},
   "source": [
    "## Eva Matrix Regression\n",
    "- R Squared\n",
    "- MAE\n",
    "- MSE\n",
    "- RMSE\n",
    "- Optional jika banyak error yg outliers gunakan MedAE"
   ]
  },
  {
   "cell_type": "markdown",
   "id": "71f5c158",
   "metadata": {},
   "source": [
    "## R squared\n",
    "- koefisien Determinan\n",
    "- Mengukur seberapa bagus model kita\n",
    "- Persantase informasi dari Y (dependent variabel) yg tergandung dalam x (Indep Var)\n",
    "- Analogi : Berapa persen buah mangga yg bisa kita makan ketika kita mengupas mangga\n",
    "- Range : -infinite sampai 1\n",
    "- Nilai negatif berarti model lebih jelek dibandingkan dg ketika kita memprediksi nilai berdasarkan target\n",
    "- Nilai positif berarti model lebih bagus dibandingkan ketika kita menebak/memprediksi nilai berdasarkan rata-rata target\n",
    "- Semakin mendekati 1 semakin bagus"
   ]
  },
  {
   "cell_type": "markdown",
   "id": "4ab8e80e",
   "metadata": {},
   "source": [
    "# MAE (mean absolute error)\n",
    "- Rata-rata error yg sudah diabsolutkan \n",
    "- Range : 0 sampai dg infinite\n",
    "- Satuannya sama dengan satuan data target\n",
    "- Mendekati 0 semakin bagus\n",
    "- Untuk mengetahui error sudah cukup baik atau terlalu besar bandingkan dengan rata-rata target"
   ]
  },
  {
   "cell_type": "markdown",
   "id": "3c9f6e1f",
   "metadata": {},
   "source": [
    "# MSE (mean squared error)\n",
    "- Rata-rata eror yg sudah dikuadratkan\n",
    "- Range 0 - tak hingga\n",
    "- Memberikan bobot terhadap error\n",
    "- Semakin tinggi error semakin tinggi bobotnya\n",
    "- Memberikan penalti terhadap error yg besar\n",
    "- Semakin mendekati 0 semakin bagus"
   ]
  },
  {
   "cell_type": "markdown",
   "id": "818b0e26",
   "metadata": {},
   "source": [
    "## RMSE (Root Mean Squared Error)\n",
    "- Akar kuadrat dari MSE\n",
    "- Versi standarisasi dari MSE\n",
    "- Range : 0 s/d tak hingga\n",
    "- Jenis Eva matrix paling umum digunakan kasus regresi, termasuk yg sering digunakan dalam kompetisi kaggle\n",
    "- Memberikan bobot terhadap error\n",
    "- Memberikan penalti terhadap error yg besar\n",
    "- Mendekati 0 semakin bagus\n",
    "### Nilai RMSE dan MAE bisa sama ketika semua errornya sama"
   ]
  },
  {
   "cell_type": "raw",
   "id": "4dd16bdb",
   "metadata": {},
   "source": [
    "Contoh case lain :\n",
    "Project A -> memprediksi jumlah penyewaan sepeda\n",
    "Rata-rata -> 75\n",
    "MAE = 50\n",
    "Project B -> memprediksi harga supercar\n",
    "Rata-rata -> 3.500.000.000\n",
    "MAE = 500.000"
   ]
  },
  {
   "cell_type": "markdown",
   "id": "1d5d3822",
   "metadata": {},
   "source": [
    "### Evaluation Metrics calculation"
   ]
  },
  {
   "cell_type": "code",
   "execution_count": 186,
   "id": "18faebb1",
   "metadata": {},
   "outputs": [],
   "source": [
    "from sklearn.metrics import mean_absolute_error, r2_score, mean_squared_error, median_absolute_error"
   ]
  },
  {
   "cell_type": "code",
   "execution_count": 187,
   "id": "c124800d",
   "metadata": {},
   "outputs": [],
   "source": [
    "### Evaluation untuk data training"
   ]
  },
  {
   "cell_type": "code",
   "execution_count": 188,
   "id": "3376c76c",
   "metadata": {},
   "outputs": [
    {
     "data": {
      "text/plain": [
       "139    17.8\n",
       "314    23.8\n",
       "427    10.9\n",
       "102    18.6\n",
       "45     19.3\n",
       "       ... \n",
       "385     7.2\n",
       "197    30.3\n",
       "439    12.8\n",
       "174    22.6\n",
       "122    20.5\n",
       "Name: Price, Length: 430, dtype: float64"
      ]
     },
     "execution_count": 188,
     "metadata": {},
     "output_type": "execute_result"
    }
   ],
   "source": [
    "y_train # -> kunci jawabn untuk training/try out"
   ]
  },
  {
   "cell_type": "code",
   "execution_count": 189,
   "id": "e012a613",
   "metadata": {},
   "outputs": [],
   "source": [
    "pred_train = Model.predict(X_train)\n",
    "# model menjkawab Try out dan model memprediksi data training"
   ]
  },
  {
   "cell_type": "code",
   "execution_count": 190,
   "id": "9191f8af",
   "metadata": {},
   "outputs": [
    {
     "data": {
      "text/plain": [
       "0.6776018019730137"
      ]
     },
     "execution_count": 190,
     "metadata": {},
     "output_type": "execute_result"
    }
   ],
   "source": [
    "r2_train = r2_score(y_train, pred_train)\n",
    "r2_train"
   ]
  },
  {
   "cell_type": "code",
   "execution_count": 191,
   "id": "9bf1a8be",
   "metadata": {},
   "outputs": [
    {
     "data": {
      "text/plain": [
       "3.646213654939842"
      ]
     },
     "execution_count": 191,
     "metadata": {},
     "output_type": "execute_result"
    }
   ],
   "source": [
    "MAE_train = mean_absolute_error(y_train, pred_train)\n",
    "MAE_train"
   ]
  },
  {
   "cell_type": "code",
   "execution_count": 192,
   "id": "a5a48fcc",
   "metadata": {},
   "outputs": [
    {
     "data": {
      "text/plain": [
       "27.310115685096157"
      ]
     },
     "execution_count": 192,
     "metadata": {},
     "output_type": "execute_result"
    }
   ],
   "source": [
    "MSE_train = mean_squared_error(y_train, pred_train)\n",
    "MSE_train"
   ]
  },
  {
   "cell_type": "code",
   "execution_count": 193,
   "id": "ba7065af",
   "metadata": {},
   "outputs": [
    {
     "data": {
      "text/plain": [
       "5.225908120613695"
      ]
     },
     "execution_count": 193,
     "metadata": {},
     "output_type": "execute_result"
    }
   ],
   "source": [
    "RMSE_train = np.sqrt(MSE_train)\n",
    "RMSE_train"
   ]
  },
  {
   "cell_type": "code",
   "execution_count": 194,
   "id": "840b5c73",
   "metadata": {},
   "outputs": [
    {
     "name": "stdout",
     "output_type": "stream",
     "text": [
      "Hasil Evaluation Matrix untuk Data Training\n",
      "************************************************** **************************************************\n",
      "Nilai R Squared :  0.68\n",
      "Nilai MAE :  3.65\n",
      "Nilai MSE :  27.31\n",
      "Nilai RMSE :  5.23\n"
     ]
    }
   ],
   "source": [
    "print(\"Hasil Evaluation Matrix untuk Data Training\")\n",
    "print((\"*\" *50),(\"*\" *50))\n",
    "print(\"Nilai R Squared : \", r2_train.round(2))\n",
    "print(\"Nilai MAE : \", MAE_train.round(2))\n",
    "print(\"Nilai MSE : \", MSE_train.round(2))\n",
    "print(\"Nilai RMSE : \", RMSE_train.round(2))"
   ]
  },
  {
   "cell_type": "code",
   "execution_count": 195,
   "id": "46591067",
   "metadata": {},
   "outputs": [],
   "source": [
    "### Evaluation untuk data testing/ ujian yg sesungguhnya"
   ]
  },
  {
   "cell_type": "code",
   "execution_count": 196,
   "id": "bb0f2287",
   "metadata": {},
   "outputs": [
    {
     "data": {
      "text/plain": [
       "8      16.5\n",
       "289    24.8\n",
       "68     17.4\n",
       "211    19.3\n",
       "226    37.6\n",
       "       ... \n",
       "6      22.9\n",
       "63     25.0\n",
       "239    23.3\n",
       "123    17.3\n",
       "64     33.0\n",
       "Name: Price, Length: 76, dtype: float64"
      ]
     },
     "execution_count": 196,
     "metadata": {},
     "output_type": "execute_result"
    }
   ],
   "source": [
    "y_test\n",
    "#kunci jawaban/ujian sesungguhnya"
   ]
  },
  {
   "cell_type": "code",
   "execution_count": 197,
   "id": "b6b6281c",
   "metadata": {},
   "outputs": [],
   "source": [
    "pred_test = Model.predict(X_test)\n",
    "# Model menjawab ujian sesungguhnya -> model memprediksi data testing"
   ]
  },
  {
   "cell_type": "code",
   "execution_count": 198,
   "id": "e28f7b89",
   "metadata": {},
   "outputs": [
    {
     "data": {
      "text/plain": [
       "0.7310942798089236"
      ]
     },
     "execution_count": 198,
     "metadata": {},
     "output_type": "execute_result"
    }
   ],
   "source": [
    "r2_test = r2_score(y_test, pred_test)\n",
    "r2_test"
   ]
  },
  {
   "cell_type": "code",
   "execution_count": 199,
   "id": "65de5e7e",
   "metadata": {},
   "outputs": [
    {
     "data": {
      "text/plain": [
       "3.2930848809837214"
      ]
     },
     "execution_count": 199,
     "metadata": {},
     "output_type": "execute_result"
    }
   ],
   "source": [
    "MAE_test = mean_absolute_error(y_test, pred_test)\n",
    "MAE_test"
   ]
  },
  {
   "cell_type": "code",
   "execution_count": 200,
   "id": "5c0122ca",
   "metadata": {},
   "outputs": [
    {
     "data": {
      "text/plain": [
       "22.125849440430557"
      ]
     },
     "execution_count": 200,
     "metadata": {},
     "output_type": "execute_result"
    }
   ],
   "source": [
    "MSE_test = mean_squared_error(y_test, pred_test)\n",
    "MSE_test"
   ]
  },
  {
   "cell_type": "code",
   "execution_count": 201,
   "id": "cb546b1b",
   "metadata": {},
   "outputs": [
    {
     "data": {
      "text/plain": [
       "4.703812224189074"
      ]
     },
     "execution_count": 201,
     "metadata": {},
     "output_type": "execute_result"
    }
   ],
   "source": [
    "RMSE_test = np.sqrt(MSE_test)\n",
    "RMSE_test"
   ]
  },
  {
   "cell_type": "code",
   "execution_count": 202,
   "id": "43903de7",
   "metadata": {},
   "outputs": [
    {
     "name": "stdout",
     "output_type": "stream",
     "text": [
      "Hasil Evaluation Matrix untuk Data Test\n",
      "************************************************** **************************************************\n",
      "Nilai R Squared :  0.73\n",
      "Nilai MAE :  3.29\n",
      "Nilai MSE :  22.13\n",
      "Nilai RMSE :  4.7\n"
     ]
    }
   ],
   "source": [
    "print(\"Hasil Evaluation Matrix untuk Data Test\")\n",
    "print((\"*\" *50),(\"*\" *50))\n",
    "print(\"Nilai R Squared : \", r2_test.round(2))\n",
    "print(\"Nilai MAE : \", MAE_test.round(2))\n",
    "print(\"Nilai MSE : \", MSE_test.round(2))\n",
    "print(\"Nilai RMSE : \", RMSE_test.round(2))"
   ]
  },
  {
   "cell_type": "code",
   "execution_count": 203,
   "id": "1d39e2f1",
   "metadata": {},
   "outputs": [],
   "source": [
    "data = {\n",
    "    \"Training\" : [r2_train, MAE_train, MSE_train,RMSE_train],\n",
    "    \"Testing\" : [r2_test, MAE_test, MSE_test,RMSE_test]\n",
    "}"
   ]
  },
  {
   "cell_type": "code",
   "execution_count": 204,
   "id": "ca160290",
   "metadata": {},
   "outputs": [
    {
     "data": {
      "text/html": [
       "<div>\n",
       "<style scoped>\n",
       "    .dataframe tbody tr th:only-of-type {\n",
       "        vertical-align: middle;\n",
       "    }\n",
       "\n",
       "    .dataframe tbody tr th {\n",
       "        vertical-align: top;\n",
       "    }\n",
       "\n",
       "    .dataframe thead th {\n",
       "        text-align: right;\n",
       "    }\n",
       "</style>\n",
       "<table border=\"1\" class=\"dataframe\">\n",
       "  <thead>\n",
       "    <tr style=\"text-align: right;\">\n",
       "      <th></th>\n",
       "      <th>Training</th>\n",
       "      <th>Testing</th>\n",
       "    </tr>\n",
       "  </thead>\n",
       "  <tbody>\n",
       "    <tr>\n",
       "      <th>R Squared</th>\n",
       "      <td>0.677602</td>\n",
       "      <td>0.731094</td>\n",
       "    </tr>\n",
       "    <tr>\n",
       "      <th>MAE</th>\n",
       "      <td>3.646214</td>\n",
       "      <td>3.293085</td>\n",
       "    </tr>\n",
       "    <tr>\n",
       "      <th>MSE</th>\n",
       "      <td>27.310116</td>\n",
       "      <td>22.125849</td>\n",
       "    </tr>\n",
       "    <tr>\n",
       "      <th>RMSE</th>\n",
       "      <td>5.225908</td>\n",
       "      <td>4.703812</td>\n",
       "    </tr>\n",
       "  </tbody>\n",
       "</table>\n",
       "</div>"
      ],
      "text/plain": [
       "            Training    Testing\n",
       "R Squared   0.677602   0.731094\n",
       "MAE         3.646214   3.293085\n",
       "MSE        27.310116  22.125849\n",
       "RMSE        5.225908   4.703812"
      ]
     },
     "execution_count": 204,
     "metadata": {},
     "output_type": "execute_result"
    }
   ],
   "source": [
    "pd.DataFrame(data, index=[\"R Squared\",\"MAE\",\"MSE\",\"RMSE\"])\n",
    "# membandingkan training dan testing\n",
    "# hasilnuya jelek(underfitting)"
   ]
  },
  {
   "cell_type": "code",
   "execution_count": null,
   "id": "a8419d44",
   "metadata": {},
   "outputs": [],
   "source": []
  }
 ],
 "metadata": {
  "kernelspec": {
   "display_name": "Python 3 (ipykernel)",
   "language": "python",
   "name": "python3"
  },
  "language_info": {
   "codemirror_mode": {
    "name": "ipython",
    "version": 3
   },
   "file_extension": ".py",
   "mimetype": "text/x-python",
   "name": "python",
   "nbconvert_exporter": "python",
   "pygments_lexer": "ipython3",
   "version": "3.9.7"
  }
 },
 "nbformat": 4,
 "nbformat_minor": 5
}
